{
 "cells": [
  {
   "cell_type": "code",
   "execution_count": 1,
   "metadata": {},
   "outputs": [],
   "source": [
    "import numpy as np\n",
    "import pandas as pd\n",
    "from scipy.stats import spearmanr, pearsonr\n",
    "from sklearn.metrics import r2_score"
   ]
  },
  {
   "cell_type": "code",
   "execution_count": 2,
   "metadata": {},
   "outputs": [],
   "source": [
    "COUNTS_PATH = \"../process_geuvadis_data/log_tpm/corrected_log_tpm.annot.csv.gz\"\n",
    "SHORT_CONTEXT_PREDS_PATH = \"h5_bins_384_chrom_split/predixcan_preds.384_bins.csv\"\n",
    "SHORT_CONTEXT_NO_CV_PREDS_PATH = (\n",
    "    \"h5_bins_384_chrom_split/predixcan_preds.384_bins.no_cv.csv\"\n",
    ")\n",
    "LONG_CONTEXT_PREDS_PATH = \"h5_bins_384_chrom_split/predixcan_preds.1Mb.csv\"\n",
    "LONG_CONTEXT_NO_CV_PREDS_PATH = \"h5_bins_384_chrom_split/predixcan_preds.1Mb.no_cv.csv\"\n",
    "GENE_CLASS_PATH = \"../finetuning/data/h5_bins_384_chrom_split/gene_class.csv\""
   ]
  },
  {
   "cell_type": "code",
   "execution_count": 4,
   "metadata": {},
   "outputs": [],
   "source": [
    "counts_df = pd.read_csv(COUNTS_PATH, index_col=\"our_gene_name\")\n",
    "short_context_preds_df = pd.read_csv(SHORT_CONTEXT_PREDS_PATH, index_col=0)\n",
    "short_context_no_cv_preds_df = pd.read_csv(SHORT_CONTEXT_NO_CV_PREDS_PATH, index_col=0)\n",
    "long_context_preds_df = pd.read_csv(LONG_CONTEXT_PREDS_PATH, index_col=0)\n",
    "long_context_no_cv_preds_df = pd.read_csv(LONG_CONTEXT_NO_CV_PREDS_PATH, index_col=0)\n",
    "class_df = pd.read_csv(GENE_CLASS_PATH, index_col=0)"
   ]
  },
  {
   "cell_type": "code",
   "execution_count": 5,
   "metadata": {},
   "outputs": [],
   "source": [
    "def get_correlation(\n",
    "    preds_df, counts_df, genes, correlation: str = \"spearman\", verbose: bool = False\n",
    "):\n",
    "    correlations = []\n",
    "    constant_prediction_genes = []\n",
    "    for gene in genes:\n",
    "        preds = preds_df.loc[gene].dropna()\n",
    "        counts = counts_df.loc[gene, preds.index]\n",
    "        assert len(preds) == len(counts) == 77\n",
    "        if correlation == \"spearman\":\n",
    "            corr, _ = spearmanr(preds, counts)\n",
    "        elif correlation == \"pearson\":\n",
    "            corr, _ = pearsonr(preds, counts)\n",
    "        elif correlation == \"r2\":\n",
    "            corr = r2_score(counts, preds)\n",
    "        else:\n",
    "            raise ValueError(f\"Unknown correlation {correlation}\")\n",
    "        if np.isnan(corr):\n",
    "            assert np.all(preds == preds[0])\n",
    "            constant_prediction_genes.append(gene)\n",
    "            corr = 0.0\n",
    "        correlations.append(corr)\n",
    "\n",
    "    if verbose:\n",
    "        print(f\"Mean correlation: {np.mean(correlations)}\")\n",
    "        print(\n",
    "            f\"{len(constant_prediction_genes)} genes with constant predictions: {constant_prediction_genes}\"\n",
    "        )\n",
    "    return np.mean(correlations)"
   ]
  },
  {
   "cell_type": "markdown",
   "metadata": {},
   "source": [
    "# Short context predictions (with cross validation for hyperparameter selection)"
   ]
  },
  {
   "cell_type": "code",
   "execution_count": 6,
   "metadata": {},
   "outputs": [
    {
     "name": "stderr",
     "output_type": "stream",
     "text": [
      "/data/yosef3/scratch/ruchir/tools/mambaforge/envs/sc/lib/python3.10/site-packages/scipy/stats/_stats_py.py:5445: ConstantInputWarning: An input array is constant; the correlation coefficient is not defined.\n",
      "  warnings.warn(stats.ConstantInputWarning(warn_msg))\n",
      "/data/yosef3/scratch/ruchir/tools/mambaforge/envs/sc/lib/python3.10/site-packages/scipy/stats/_stats_py.py:4781: ConstantInputWarning: An input array is constant; the correlation coefficient is not defined.\n",
      "  warnings.warn(stats.ConstantInputWarning(msg))\n",
      "/data/yosef3/scratch/ruchir/tools/mambaforge/envs/sc/lib/python3.10/site-packages/scipy/stats/_stats_py.py:4847: NearConstantInputWarning: An input array is nearly constant; the computed correlation coefficient may be inaccurate.\n",
      "  warnings.warn(stats.NearConstantInputWarning(msg))\n"
     ]
    },
    {
     "name": "stdout",
     "output_type": "stream",
     "text": [
      "Spearman: random_split=0.273, yri_split=0.157\n",
      "Pearson: random_split=0.287, yri_split=0.158\n",
      "R2: random_split=0.083, yri_split=-0.036\n"
     ]
    }
   ],
   "source": [
    "random_split_genes = class_df[class_df[\"class\"] == \"random_split\"].index.tolist()\n",
    "yri_split_genes = class_df[class_df[\"class\"] == \"yri_split\"].index.tolist()\n",
    "\n",
    "random_split_spearman = get_correlation(\n",
    "    short_context_preds_df, counts_df, random_split_genes, \"spearman\"\n",
    ")\n",
    "yri_split_spearman = get_correlation(\n",
    "    short_context_preds_df, counts_df, yri_split_genes, \"spearman\"\n",
    ")\n",
    "\n",
    "random_split_pearson = get_correlation(\n",
    "    short_context_preds_df, counts_df, random_split_genes, \"pearson\"\n",
    ")\n",
    "yri_split_pearson = get_correlation(\n",
    "    short_context_preds_df, counts_df, yri_split_genes, \"pearson\"\n",
    ")\n",
    "\n",
    "random_split_r2 = get_correlation(\n",
    "    short_context_preds_df, counts_df, random_split_genes, \"r2\"\n",
    ")\n",
    "yri_split_r2 = get_correlation(short_context_preds_df, counts_df, yri_split_genes, \"r2\")\n",
    "\n",
    "print(\n",
    "    f\"Spearman: random_split={random_split_spearman:.3f}, yri_split={yri_split_spearman:.3f}\"\n",
    ")\n",
    "print(\n",
    "    f\"Pearson: random_split={random_split_pearson:.3f}, yri_split={yri_split_pearson:.3f}\"\n",
    ")\n",
    "print(f\"R2: random_split={random_split_r2:.3f}, yri_split={yri_split_r2:.3f}\")"
   ]
  },
  {
   "cell_type": "markdown",
   "metadata": {},
   "source": [
    "# Long context predictions (with cross validation for hyperparameter selection)"
   ]
  },
  {
   "cell_type": "code",
   "execution_count": 7,
   "metadata": {},
   "outputs": [
    {
     "name": "stderr",
     "output_type": "stream",
     "text": [
      "/data/yosef3/scratch/ruchir/tools/mambaforge/envs/sc/lib/python3.10/site-packages/scipy/stats/_stats_py.py:5445: ConstantInputWarning: An input array is constant; the correlation coefficient is not defined.\n",
      "  warnings.warn(stats.ConstantInputWarning(warn_msg))\n",
      "/data/yosef3/scratch/ruchir/tools/mambaforge/envs/sc/lib/python3.10/site-packages/scipy/stats/_stats_py.py:4781: ConstantInputWarning: An input array is constant; the correlation coefficient is not defined.\n",
      "  warnings.warn(stats.ConstantInputWarning(msg))\n"
     ]
    },
    {
     "name": "stdout",
     "output_type": "stream",
     "text": [
      "Spearman: random_split=0.273, yri_split=0.159\n",
      "Pearson: random_split=0.294, yri_split=0.153\n",
      "R2: random_split=0.082, yri_split=-0.044\n"
     ]
    }
   ],
   "source": [
    "random_split_genes = class_df[class_df[\"class\"] == \"random_split\"].index.tolist()\n",
    "random_split_genes = class_df[class_df[\"class\"] == \"random_split\"].index.tolist()\n",
    "yri_split_genes = class_df[class_df[\"class\"] == \"yri_split\"].index.tolist()\n",
    "\n",
    "random_split_spearman = get_correlation(\n",
    "    long_context_preds_df, counts_df, random_split_genes, \"spearman\"\n",
    ")\n",
    "yri_split_spearman = get_correlation(\n",
    "    long_context_preds_df, counts_df, yri_split_genes, \"spearman\"\n",
    ")\n",
    "\n",
    "random_split_pearson = get_correlation(\n",
    "    long_context_preds_df, counts_df, random_split_genes, \"pearson\"\n",
    ")\n",
    "yri_split_pearson = get_correlation(\n",
    "    long_context_preds_df, counts_df, yri_split_genes, \"pearson\"\n",
    ")\n",
    "\n",
    "random_split_r2 = get_correlation(\n",
    "    long_context_preds_df, counts_df, random_split_genes, \"r2\"\n",
    ")\n",
    "yri_split_r2 = get_correlation(long_context_preds_df, counts_df, yri_split_genes, \"r2\")\n",
    "\n",
    "print(\n",
    "    f\"Spearman: random_split={random_split_spearman:.3f}, yri_split={yri_split_spearman:.3f}\"\n",
    ")\n",
    "print(\n",
    "    f\"Pearson: random_split={random_split_pearson:.3f}, yri_split={yri_split_pearson:.3f}\"\n",
    ")\n",
    "print(f\"R2: random_split={random_split_r2:.3f}, yri_split={yri_split_r2:.3f}\")"
   ]
  },
  {
   "cell_type": "markdown",
   "metadata": {},
   "source": [
    "# Short context predictions (without cross validation for hyperparameter selection)"
   ]
  },
  {
   "cell_type": "code",
   "execution_count": 8,
   "metadata": {},
   "outputs": [
    {
     "name": "stderr",
     "output_type": "stream",
     "text": [
      "/data/yosef3/scratch/ruchir/tools/mambaforge/envs/sc/lib/python3.10/site-packages/scipy/stats/_stats_py.py:5445: ConstantInputWarning: An input array is constant; the correlation coefficient is not defined.\n",
      "  warnings.warn(stats.ConstantInputWarning(warn_msg))\n",
      "/data/yosef3/scratch/ruchir/tools/mambaforge/envs/sc/lib/python3.10/site-packages/scipy/stats/_stats_py.py:4781: ConstantInputWarning: An input array is constant; the correlation coefficient is not defined.\n",
      "  warnings.warn(stats.ConstantInputWarning(msg))\n"
     ]
    },
    {
     "name": "stdout",
     "output_type": "stream",
     "text": [
      "Spearman: random_split=0.261, yri_split=0.141\n",
      "Pearson: random_split=0.276, yri_split=0.138\n",
      "R2: random_split=0.038, yri_split=-0.414\n"
     ]
    }
   ],
   "source": [
    "random_split_genes = class_df[class_df[\"class\"] == \"random_split\"].index.tolist()\n",
    "yri_split_genes = class_df[class_df[\"class\"] == \"yri_split\"].index.tolist()\n",
    "\n",
    "random_split_spearman = get_correlation(\n",
    "    short_context_no_cv_preds_df, counts_df, random_split_genes, \"spearman\"\n",
    ")\n",
    "yri_split_spearman = get_correlation(\n",
    "    short_context_no_cv_preds_df, counts_df, yri_split_genes, \"spearman\"\n",
    ")\n",
    "\n",
    "random_split_pearson = get_correlation(\n",
    "    short_context_no_cv_preds_df, counts_df, random_split_genes, \"pearson\"\n",
    ")\n",
    "yri_split_pearson = get_correlation(\n",
    "    short_context_no_cv_preds_df, counts_df, yri_split_genes, \"pearson\"\n",
    ")\n",
    "\n",
    "random_split_r2 = get_correlation(\n",
    "    short_context_no_cv_preds_df, counts_df, random_split_genes, \"r2\"\n",
    ")\n",
    "yri_split_r2 = get_correlation(\n",
    "    short_context_no_cv_preds_df, counts_df, yri_split_genes, \"r2\"\n",
    ")\n",
    "\n",
    "print(\n",
    "    f\"Spearman: random_split={random_split_spearman:.3f}, yri_split={yri_split_spearman:.3f}\"\n",
    ")\n",
    "print(\n",
    "    f\"Pearson: random_split={random_split_pearson:.3f}, yri_split={yri_split_pearson:.3f}\"\n",
    ")\n",
    "print(f\"R2: random_split={random_split_r2:.3f}, yri_split={yri_split_r2:.3f}\")"
   ]
  },
  {
   "cell_type": "markdown",
   "metadata": {},
   "source": [
    "# Long context predictions (without cross validation for hyperparameter selection)"
   ]
  },
  {
   "cell_type": "code",
   "execution_count": 9,
   "metadata": {},
   "outputs": [
    {
     "name": "stdout",
     "output_type": "stream",
     "text": [
      "Spearman: random_split=0.253, yri_split=0.139\n",
      "Pearson: random_split=0.264, yri_split=0.132\n",
      "R2: random_split=0.004, yri_split=-0.163\n"
     ]
    }
   ],
   "source": [
    "random_split_genes = class_df[class_df[\"class\"] == \"random_split\"].index.tolist()\n",
    "yri_split_genes = class_df[class_df[\"class\"] == \"yri_split\"].index.tolist()\n",
    "\n",
    "random_split_spearman = get_correlation(\n",
    "    long_context_no_cv_preds_df, counts_df, random_split_genes, \"spearman\"\n",
    ")\n",
    "yri_split_spearman = get_correlation(\n",
    "    long_context_no_cv_preds_df, counts_df, yri_split_genes, \"spearman\"\n",
    ")\n",
    "\n",
    "random_split_pearson = get_correlation(\n",
    "    long_context_no_cv_preds_df, counts_df, random_split_genes, \"pearson\"\n",
    ")\n",
    "yri_split_pearson = get_correlation(\n",
    "    long_context_no_cv_preds_df, counts_df, yri_split_genes, \"pearson\"\n",
    ")\n",
    "\n",
    "random_split_r2 = get_correlation(\n",
    "    long_context_no_cv_preds_df, counts_df, random_split_genes, \"r2\"\n",
    ")\n",
    "yri_split_r2 = get_correlation(\n",
    "    long_context_no_cv_preds_df, counts_df, yri_split_genes, \"r2\"\n",
    ")\n",
    "\n",
    "print(\n",
    "    f\"Spearman: random_split={random_split_spearman:.3f}, yri_split={yri_split_spearman:.3f}\"\n",
    ")\n",
    "print(\n",
    "    f\"Pearson: random_split={random_split_pearson:.3f}, yri_split={yri_split_pearson:.3f}\"\n",
    ")\n",
    "print(f\"R2: random_split={random_split_r2:.3f}, yri_split={yri_split_r2:.3f}\")"
   ]
  },
  {
   "cell_type": "code",
   "execution_count": null,
   "metadata": {},
   "outputs": [],
   "source": []
  }
 ],
 "metadata": {
  "kernelspec": {
   "display_name": "sc",
   "language": "python",
   "name": "python3"
  },
  "language_info": {
   "codemirror_mode": {
    "name": "ipython",
    "version": 3
   },
   "file_extension": ".py",
   "mimetype": "text/x-python",
   "name": "python",
   "nbconvert_exporter": "python",
   "pygments_lexer": "ipython3",
   "version": "3.10.12"
  }
 },
 "nbformat": 4,
 "nbformat_minor": 2
}
