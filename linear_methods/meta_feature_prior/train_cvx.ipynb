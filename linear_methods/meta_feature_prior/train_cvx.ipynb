{
 "cells": [
  {
   "cell_type": "code",
   "execution_count": 1,
   "metadata": {},
   "outputs": [],
   "source": [
    "import h5py\n",
    "import os\n",
    "\n",
    "import cvxpy as cp\n",
    "import numpy as np\n",
    "from scipy.stats import pearsonr, spearmanr\n",
    "from sklearn.linear_model import RidgeCV\n",
    "from tqdm.notebook import tqdm"
   ]
  },
  {
   "cell_type": "code",
   "execution_count": 2,
   "metadata": {},
   "outputs": [],
   "source": [
    "DATASET_DIR = \"random_split.384_bins\"\n",
    "train_h5_path = os.path.join(DATASET_DIR, \"train.h5\")\n",
    "val_h5_path = os.path.join(DATASET_DIR, \"val.h5\")\n",
    "test_h5_path = os.path.join(DATASET_DIR, \"test.h5\")"
   ]
  },
  {
   "cell_type": "code",
   "execution_count": 3,
   "metadata": {},
   "outputs": [],
   "source": [
    "def load_h5_data(h5_path: str):\n",
    "    features_per_gene = {}\n",
    "    meta_features_per_gene = {}\n",
    "    zscores_per_gene = {}\n",
    "    with h5py.File(h5_path, \"r\") as f:\n",
    "        genes = f[\"genes\"][:].astype(str)\n",
    "        for g in tqdm(genes):\n",
    "            if f[g][\"variants\"].shape[0] == 0:\n",
    "                continue\n",
    "            features_per_gene[g] = f[g][\"dosages\"][:].astype(np.float32)\n",
    "            meta_features_per_gene[g] = f[g][\"meta_features\"][:].astype(np.float32)\n",
    "            zscores_per_gene[g] = f[g][\"z_scores\"][:].astype(np.float32)\n",
    "    return (features_per_gene, meta_features_per_gene, zscores_per_gene)"
   ]
  },
  {
   "cell_type": "code",
   "execution_count": 4,
   "metadata": {},
   "outputs": [
    {
     "data": {
      "application/vnd.jupyter.widget-view+json": {
       "model_id": "2f91db77f06442ee99f6e676bf08a164",
       "version_major": 2,
       "version_minor": 0
      },
      "text/plain": [
       "  0%|          | 0/3259 [00:00<?, ?it/s]"
      ]
     },
     "metadata": {},
     "output_type": "display_data"
    },
    {
     "data": {
      "application/vnd.jupyter.widget-view+json": {
       "model_id": "b5dde1ed507d46a8891d51c6a071e8f4",
       "version_major": 2,
       "version_minor": 0
      },
      "text/plain": [
       "  0%|          | 0/3259 [00:00<?, ?it/s]"
      ]
     },
     "metadata": {},
     "output_type": "display_data"
    },
    {
     "data": {
      "application/vnd.jupyter.widget-view+json": {
       "model_id": "b01c4a70e11f4b2f873792dbb7e295ca",
       "version_major": 2,
       "version_minor": 0
      },
      "text/plain": [
       "  0%|          | 0/3259 [00:00<?, ?it/s]"
      ]
     },
     "metadata": {},
     "output_type": "display_data"
    }
   ],
   "source": [
    "train_features, train_meta_features, train_zscores = load_h5_data(train_h5_path)\n",
    "val_features, _, val_zscores = load_h5_data(val_h5_path)\n",
    "test_features, _, test_zscores = load_h5_data(test_h5_path)"
   ]
  },
  {
   "cell_type": "code",
   "execution_count": 9,
   "metadata": {},
   "outputs": [],
   "source": [
    "def get_num_meta_features(meta_features_per_gene):\n",
    "    n_meta_features = [\n",
    "        meta_features_per_gene[g].shape[1] for g in meta_features_per_gene\n",
    "    ]\n",
    "    assert all(n == n_meta_features[0] for n in n_meta_features)\n",
    "    return n_meta_features[0]\n",
    "\n",
    "\n",
    "def compute_priors_per_gene(\n",
    "    meta_features_per_gene: dict[str, np.ndarray], beta: np.ndarray\n",
    "):\n",
    "    priors_per_gene = {}\n",
    "    for g in meta_features_per_gene:\n",
    "        priors_per_gene[g] = meta_features_per_gene[g] @ beta\n",
    "    return priors_per_gene\n",
    "\n",
    "\n",
    "def update_weights_per_gene(\n",
    "    features_per_gene: dict[str, np.ndarray],\n",
    "    priors_per_gene: dict[str, np.ndarray],\n",
    "    zscores_per_gene: dict[str, np.ndarray],\n",
    ") -> dict[str, RidgeCV]:\n",
    "    coefs_per_gene = {}\n",
    "    intercepts_per_gene = {}\n",
    "    for g in tqdm(features_per_gene):\n",
    "        X = features_per_gene[g]\n",
    "        P = np.diag(priors_per_gene[g])\n",
    "        P_one_half = np.sqrt(P)\n",
    "        X_tilde = X @ P_one_half\n",
    "        y = zscores_per_gene[g]\n",
    "\n",
    "        model = RidgeCV(alphas=np.logspace(-3, 3, 50))\n",
    "        model.fit(X_tilde, y)\n",
    "\n",
    "        coefs_per_gene[g] = P_one_half @ model.coef_\n",
    "        intercepts_per_gene[g] = model.intercept_\n",
    "    return coefs_per_gene, intercepts_per_gene\n",
    "\n",
    "\n",
    "def update_beta(\n",
    "    coefs_per_gene: dict[str, np.ndarray],\n",
    "    meta_features_per_gene: dict[str, np.ndarray],\n",
    "    C: float = 1.0,\n",
    "    n_subsample: int = 10_000,\n",
    "    epsilon: float = 1e-9,\n",
    "):\n",
    "    genes = list(coefs_per_gene.keys())\n",
    "    F = np.vstack([meta_features_per_gene[g] for g in genes])\n",
    "    W = np.concatenate([coefs_per_gene[g] for g in genes])\n",
    "    assert F.shape[0] == W.shape[0]\n",
    "\n",
    "    # Subsample for speed and tractability\n",
    "    subsample_idxs = np.random.permutation(F.shape[0])[:n_subsample]\n",
    "    F = F[subsample_idxs]\n",
    "    W = W[subsample_idxs]\n",
    "    assert F.shape[0] == W.shape[0]\n",
    "\n",
    "    beta = cp.Variable(F.shape[1])\n",
    "    z = F @ beta\n",
    "\n",
    "    # objective: sum(W^2 / z) + C * sum(z)\n",
    "    objective = cp.Minimize(\n",
    "        cp.sum(cp.multiply(np.square(W), cp.inv_pos(z + epsilon))) + C * cp.sum(z)\n",
    "    )\n",
    "    constraints = [z >= 0]\n",
    "    problem = cp.Problem(objective, constraints)\n",
    "    problem.solve(verbose=True)\n",
    "    return beta.value\n",
    "\n",
    "\n",
    "def compute_test_performance_per_gene(\n",
    "    features_per_gene: dict[str, np.ndarray],\n",
    "    coefs_per_gene: dict[str, np.ndarray],\n",
    "    intercepts_per_gene: dict[str, np.ndarray],\n",
    "    zscores_per_gene: dict[str, np.ndarray],\n",
    "):\n",
    "    pearsons_per_gene = {}\n",
    "    spearmans_per_gene = {}\n",
    "    mse_per_gene = {}\n",
    "    for g in tqdm(features_per_gene):\n",
    "        X = features_per_gene[g]\n",
    "        y = zscores_per_gene[g]\n",
    "        y_pred = X @ coefs_per_gene[g] + intercepts_per_gene[g]\n",
    "        pearsons_per_gene[g] = pearsonr(y, y_pred)[0]\n",
    "        spearmans_per_gene[g] = spearmanr(y, y_pred)[0]\n",
    "        mse_per_gene[g] = np.mean((y - y_pred) ** 2)\n",
    "    return pearsons_per_gene, spearmans_per_gene, mse_per_gene"
   ]
  },
  {
   "cell_type": "code",
   "execution_count": 6,
   "metadata": {},
   "outputs": [],
   "source": [
    "n_meta_features = get_num_meta_features(train_meta_features)\n",
    "beta = np.ones((n_meta_features), dtype=np.float32) / n_meta_features\n",
    "priors_per_gene = compute_priors_per_gene(train_meta_features, beta)"
   ]
  },
  {
   "cell_type": "code",
   "execution_count": 7,
   "metadata": {},
   "outputs": [
    {
     "data": {
      "application/vnd.jupyter.widget-view+json": {
       "model_id": "7d00644debf44d9892959d0f720ec81d",
       "version_major": 2,
       "version_minor": 0
      },
      "text/plain": [
       "  0%|          | 0/3252 [00:00<?, ?it/s]"
      ]
     },
     "metadata": {},
     "output_type": "display_data"
    }
   ],
   "source": [
    "coefs_per_gene, intercepts_per_gene = update_weights_per_gene(\n",
    "    train_features, priors_per_gene, train_zscores\n",
    ")"
   ]
  },
  {
   "cell_type": "code",
   "execution_count": 10,
   "metadata": {},
   "outputs": [
    {
     "data": {
      "application/vnd.jupyter.widget-view+json": {
       "model_id": "de8bed84738b47dc8b622c5f26ddd31f",
       "version_major": 2,
       "version_minor": 0
      },
      "text/plain": [
       "  0%|          | 0/3252 [00:00<?, ?it/s]"
      ]
     },
     "metadata": {},
     "output_type": "display_data"
    },
    {
     "name": "stderr",
     "output_type": "stream",
     "text": [
      "/tmp/ipykernel_980593/3030606918.py:85: ConstantInputWarning: An input array is constant; the correlation coefficient is not defined.\n",
      "  pearsons_per_gene[g] = pearsonr(y, y_pred)[0]\n",
      "/tmp/ipykernel_980593/3030606918.py:86: ConstantInputWarning: An input array is constant; the correlation coefficient is not defined.\n",
      "  spearmans_per_gene[g] = spearmanr(y, y_pred)[0]\n"
     ]
    },
    {
     "name": "stdout",
     "output_type": "stream",
     "text": [
      "Mean val Pearson correlation: 0.28209403820126533\n",
      "Mean val Spearman correlation: 0.26095346754381826\n",
      "Mean val MSE: 1.1276605298791342\n"
     ]
    }
   ],
   "source": [
    "(\n",
    "    val_pearsons_per_gene,\n",
    "    val_spearmans_per_gene,\n",
    "    val_mses_per_gene,\n",
    ") = compute_test_performance_per_gene(\n",
    "    val_features, coefs_per_gene, intercepts_per_gene, val_zscores\n",
    ")\n",
    "print(\n",
    "    f\"Mean val Pearson correlation: {np.nanmean(list(val_pearsons_per_gene.values()))}\"\n",
    ")\n",
    "print(\n",
    "    f\"Mean val Spearman correlation: {np.nanmean(list(val_spearmans_per_gene.values()))}\"\n",
    ")\n",
    "print(f\"Mean val MSE: {np.nanmean(list(val_mses_per_gene.values()))}\")"
   ]
  },
  {
   "cell_type": "code",
   "execution_count": 11,
   "metadata": {},
   "outputs": [
    {
     "data": {
      "application/vnd.jupyter.widget-view+json": {
       "model_id": "11179272811d4cdd920a753ff4c19f35",
       "version_major": 2,
       "version_minor": 0
      },
      "text/plain": [
       "  0%|          | 0/3252 [00:00<?, ?it/s]"
      ]
     },
     "metadata": {},
     "output_type": "display_data"
    },
    {
     "name": "stdout",
     "output_type": "stream",
     "text": [
      "Mean test Pearson correlation: 0.2834294585050532\n",
      "Mean test Spearman correlation: 0.27159774893734484\n",
      "Mean test MSE: 1.0031527366647355\n"
     ]
    }
   ],
   "source": [
    "(\n",
    "    test_pearsons_per_gene,\n",
    "    test_spearmans_per_gene,\n",
    "    test_mses_per_gene,\n",
    ") = compute_test_performance_per_gene(\n",
    "    test_features, coefs_per_gene, intercepts_per_gene, test_zscores\n",
    ")\n",
    "print(\n",
    "    f\"Mean test Pearson correlation: {np.nanmean(list(test_pearsons_per_gene.values()))}\"\n",
    ")\n",
    "print(\n",
    "    f\"Mean test Spearman correlation: {np.nanmean(list(test_spearmans_per_gene.values()))}\"\n",
    ")\n",
    "print(f\"Mean test MSE: {np.nanmean(list(test_mses_per_gene.values()))}\")"
   ]
  },
  {
   "cell_type": "code",
   "execution_count": 9,
   "metadata": {},
   "outputs": [
    {
     "name": "stdout",
     "output_type": "stream",
     "text": [
      "===============================================================================\n",
      "                                     CVXPY                                     \n",
      "                                     v1.4.1                                    \n",
      "===============================================================================\n",
      "(CVXPY) Apr 29 05:11:09 PM: Your problem has 5313 variables, 1 constraints, and 0 parameters.\n",
      "(CVXPY) Apr 29 05:11:09 PM: It is compliant with the following grammars: DCP, DQCP\n",
      "(CVXPY) Apr 29 05:11:09 PM: (If you need to solve this problem multiple times, but with different data, consider using parameters.)\n",
      "(CVXPY) Apr 29 05:11:09 PM: CVXPY will first compile your problem; then, it will invoke a numerical solver to obtain a solution.\n",
      "(CVXPY) Apr 29 05:11:09 PM: Your problem is compiled with the CPP canonicalization backend.\n",
      "-------------------------------------------------------------------------------\n",
      "                                  Compilation                                  \n",
      "-------------------------------------------------------------------------------\n",
      "(CVXPY) Apr 29 05:11:09 PM: Compiling problem (target solver=ECOS).\n",
      "(CVXPY) Apr 29 05:11:09 PM: Reduction chain: Dcp2Cone -> CvxAttr2Constr -> ConeMatrixStuffing -> ECOS\n",
      "(CVXPY) Apr 29 05:11:09 PM: Applying reduction Dcp2Cone\n",
      "(CVXPY) Apr 29 05:11:09 PM: Applying reduction CvxAttr2Constr\n",
      "(CVXPY) Apr 29 05:11:09 PM: Applying reduction ConeMatrixStuffing\n"
     ]
    },
    {
     "name": "stderr",
     "output_type": "stream",
     "text": [
      "/data/yosef3/scratch/ruchir/tools/mambaforge/envs/sc/lib/python3.10/site-packages/cvxpy/reductions/solvers/solving_chain.py:336: FutureWarning: \n",
      "    Your problem is being solved with the ECOS solver by default. Starting in \n",
      "    CVXPY 1.5.0, Clarabel will be used as the default solver instead. To continue \n",
      "    using ECOS, specify the ECOS solver explicitly using the ``solver=cp.ECOS`` \n",
      "    argument to the ``problem.solve`` method.\n",
      "    \n",
      "  warnings.warn(ECOS_DEPRECATION_MSG, FutureWarning)\n"
     ]
    },
    {
     "name": "stdout",
     "output_type": "stream",
     "text": [
      "(CVXPY) Apr 29 05:12:10 PM: Applying reduction ECOS\n",
      "(CVXPY) Apr 29 05:13:01 PM: Finished problem compilation (took 1.122e+02 seconds).\n",
      "-------------------------------------------------------------------------------\n",
      "                                Numerical solver                               \n",
      "-------------------------------------------------------------------------------\n",
      "(CVXPY) Apr 29 05:13:01 PM: Invoking solver ECOS  to obtain a solution.\n"
     ]
    }
   ],
   "source": [
    "beta2 = update_beta(coefs_per_gene, train_meta_features)"
   ]
  },
  {
   "cell_type": "code",
   "execution_count": null,
   "metadata": {},
   "outputs": [],
   "source": []
  }
 ],
 "metadata": {
  "kernelspec": {
   "display_name": "sc",
   "language": "python",
   "name": "python3"
  },
  "language_info": {
   "codemirror_mode": {
    "name": "ipython",
    "version": 3
   },
   "file_extension": ".py",
   "mimetype": "text/x-python",
   "name": "python",
   "nbconvert_exporter": "python",
   "pygments_lexer": "ipython3",
   "version": "3.10.12"
  }
 },
 "nbformat": 4,
 "nbformat_minor": 2
}
