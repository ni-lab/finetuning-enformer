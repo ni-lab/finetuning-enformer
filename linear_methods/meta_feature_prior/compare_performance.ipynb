{
 "cells": [
  {
   "cell_type": "code",
   "execution_count": 14,
   "metadata": {},
   "outputs": [],
   "source": [
    "import numpy as np\n",
    "import pandas as pd\n",
    "from scipy.stats import pearsonr, spearmanr\n",
    "from tqdm import tqdm"
   ]
  },
  {
   "cell_type": "code",
   "execution_count": 20,
   "metadata": {},
   "outputs": [],
   "source": [
    "RANDOM_SPLIT_COUNTS_PATH = \"/data/yosef3/scratch/ruchir/finetuning-enformer/meta_feature_prior/r1_random_split/r1_random_split_C_0.01_lr_0.001/preds/83-273168.counts.csv\"\n",
    "RANDOM_SPLIT_PREDS_PATH = \"/data/yosef3/scratch/ruchir/finetuning-enformer/meta_feature_prior/r1_random_split/r1_random_split_C_0.01_lr_0.001/preds/83-273168.preds.csv\"\n",
    "\n",
    "POP_SPLIT_COUNTS_PATH = \"/data/yosef3/scratch/ruchir/finetuning-enformer/meta_feature_prior/r1_population_split/r1_population_split_C_0.01_lr_0.001/preds/87-286088.counts.csv\"\n",
    "POP_SPLIT_PREDS_PATH = \"/data/yosef3/scratch/ruchir/finetuning-enformer/meta_feature_prior/r1_population_split/r1_population_split_C_0.01_lr_0.001/preds/87-286088.preds.csv\"\n",
    "\n",
    "FINETUNING_GENE_CLASS_PATH = \"/data/yosef3/users/ruchir/finetuning-enformer/finetuning/data/h5_bins_384_chrom_split/gene_class.csv\""
   ]
  },
  {
   "cell_type": "code",
   "execution_count": 27,
   "metadata": {},
   "outputs": [],
   "source": [
    "gene_class_df = pd.read_csv(FINETUNING_GENE_CLASS_PATH, index_col=0)\n",
    "finetuning_random_split_genes = gene_class_df[\n",
    "    gene_class_df[\"class\"] == \"random_split\"\n",
    "].index.tolist()\n",
    "finetuning_pop_split_genes = gene_class_df[\n",
    "    gene_class_df[\"class\"] == \"yri_split\"\n",
    "].index.tolist()"
   ]
  },
  {
   "cell_type": "markdown",
   "metadata": {},
   "source": [
    "# Random split"
   ]
  },
  {
   "cell_type": "code",
   "execution_count": 5,
   "metadata": {},
   "outputs": [],
   "source": [
    "random_split_counts_df = pd.read_csv(RANDOM_SPLIT_COUNTS_PATH, index_col=0)\n",
    "random_split_preds_df = pd.read_csv(RANDOM_SPLIT_PREDS_PATH, index_col=0)"
   ]
  },
  {
   "cell_type": "code",
   "execution_count": 13,
   "metadata": {},
   "outputs": [],
   "source": [
    "def measure_correlations(counts_df, preds_df):\n",
    "    pearsons = {}\n",
    "    spearmans = {}\n",
    "    for gene in tqdm(counts_df.index):\n",
    "        Y = counts_df.loc[gene].dropna()\n",
    "        Y_pred = preds_df.loc[gene].dropna()\n",
    "        assert Y.index.equals(Y_pred.index)\n",
    "        assert len(Y) == 77\n",
    "        pearsons[gene] = pearsonr(Y.values, Y_pred.values)[0]\n",
    "        spearmans[gene] = spearmanr(Y.values, Y_pred.values)[0]\n",
    "    return pearsons, spearmans"
   ]
  },
  {
   "cell_type": "code",
   "execution_count": 25,
   "metadata": {},
   "outputs": [
    {
     "name": "stderr",
     "output_type": "stream",
     "text": [
      "100%|██████████| 3252/3252 [00:08<00:00, 378.59it/s]"
     ]
    },
    {
     "name": "stdout",
     "output_type": "stream",
     "text": [
      "Pearson correlation: 0.2652272479458596\n",
      "Spearman correlation: 0.25539968441787947\n",
      "Pearson correlation for finetuning random split genes: 0.2683469321360736\n",
      "Spearman correlation for finetuning random split genes: 0.24819871737353996\n"
     ]
    },
    {
     "name": "stderr",
     "output_type": "stream",
     "text": [
      "\n"
     ]
    }
   ],
   "source": [
    "random_split_pearsons, random_split_spearmans = measure_correlations(\n",
    "    random_split_counts_df, random_split_preds_df\n",
    ")\n",
    "\n",
    "print(f\"Pearson correlation: {np.nanmean(list(random_split_pearsons.values()))}\")\n",
    "print(f\"Spearman correlation: {np.nanmean(list(random_split_spearmans.values()))}\")\n",
    "\n",
    "print(\n",
    "    f\"Pearson correlation for finetuning random split genes: {np.nanmean([random_split_pearsons.get(g, 0.0) for g in finetuning_random_split_genes])}\"\n",
    ")\n",
    "print(\n",
    "    f\"Spearman correlation for finetuning random split genes: {np.nanmean([random_split_spearmans.get(g, 0.0) for g in finetuning_random_split_genes])}\"\n",
    ")"
   ]
  },
  {
   "cell_type": "markdown",
   "metadata": {},
   "source": [
    "# Predictions split"
   ]
  },
  {
   "cell_type": "code",
   "execution_count": 17,
   "metadata": {},
   "outputs": [],
   "source": [
    "pop_split_counts_df = pd.read_csv(POP_SPLIT_COUNTS_PATH, index_col=0)\n",
    "pop_split_preds_df = pd.read_csv(POP_SPLIT_PREDS_PATH, index_col=0)"
   ]
  },
  {
   "cell_type": "code",
   "execution_count": 28,
   "metadata": {},
   "outputs": [
    {
     "name": "stderr",
     "output_type": "stream",
     "text": [
      " 11%|█         | 347/3251 [00:00<00:07, 386.44it/s]/tmp/ipykernel_1114867/3799226649.py:9: ConstantInputWarning: An input array is constant; the correlation coefficient is not defined.\n",
      "  pearsons[gene] = pearsonr(Y.values, Y_pred.values)[0]\n",
      "/tmp/ipykernel_1114867/3799226649.py:10: ConstantInputWarning: An input array is constant; the correlation coefficient is not defined.\n",
      "  spearmans[gene] = spearmanr(Y.values, Y_pred.values)[0]\n",
      "100%|██████████| 3251/3251 [00:08<00:00, 385.17it/s]"
     ]
    },
    {
     "name": "stdout",
     "output_type": "stream",
     "text": [
      "Pearson correlation: 0.15432630195065317\n",
      "Spearman correlation: 0.14937435451840073\n",
      "Pearson correlation for finetuning population split genes: 0.14418616423331118\n",
      "Spearman correlation for finetuning population split genes: 0.14290161174915936\n"
     ]
    },
    {
     "name": "stderr",
     "output_type": "stream",
     "text": [
      "\n"
     ]
    }
   ],
   "source": [
    "pop_split_pearsons, pop_split_spearmans = measure_correlations(\n",
    "    pop_split_counts_df, pop_split_preds_df\n",
    ")\n",
    "\n",
    "print(f\"Pearson correlation: {np.nanmean(list(pop_split_pearsons.values()))}\")\n",
    "print(f\"Spearman correlation: {np.nanmean(list(pop_split_spearmans.values()))}\")\n",
    "\n",
    "print(\n",
    "    f\"Pearson correlation for finetuning population split genes: {np.nanmean([pop_split_pearsons.get(g, 0.0) for g in finetuning_pop_split_genes])}\"\n",
    ")\n",
    "print(\n",
    "    f\"Spearman correlation for finetuning population split genes: {np.nanmean([pop_split_spearmans.get(g, 0.0) for g in finetuning_pop_split_genes])}\"\n",
    ")"
   ]
  },
  {
   "cell_type": "code",
   "execution_count": null,
   "metadata": {},
   "outputs": [],
   "source": []
  }
 ],
 "metadata": {
  "kernelspec": {
   "display_name": "sc",
   "language": "python",
   "name": "python3"
  },
  "language_info": {
   "codemirror_mode": {
    "name": "ipython",
    "version": 3
   },
   "file_extension": ".py",
   "mimetype": "text/x-python",
   "name": "python",
   "nbconvert_exporter": "python",
   "pygments_lexer": "ipython3",
   "version": "3.10.12"
  }
 },
 "nbformat": 4,
 "nbformat_minor": 2
}
