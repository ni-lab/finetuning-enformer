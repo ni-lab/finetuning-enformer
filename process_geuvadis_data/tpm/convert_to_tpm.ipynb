{
 "cells": [
  {
   "cell_type": "code",
   "execution_count": 1,
   "metadata": {},
   "outputs": [],
   "source": [
    "import pandas as pd\n",
    "import seaborn as sns\n",
    "from scipy.stats import spearmanr\n",
    "from tqdm import tqdm"
   ]
  },
  {
   "cell_type": "code",
   "execution_count": 2,
   "metadata": {},
   "outputs": [],
   "source": [
    "RPKM_PATH = \"/data/yosef3/scratch/ruchir/data/geuvadis/analysis_results/GD660.GeneQuantRPKM.txt.gz\"\n",
    "METADATA_PATH = \"/data/yosef3/users/ruchir/pgp_uq/data/E-GEUV-1.sdrf.txt\""
   ]
  },
  {
   "cell_type": "code",
   "execution_count": 3,
   "metadata": {},
   "outputs": [],
   "source": [
    "rpkm_df = pd.read_csv(RPKM_PATH, sep=\"\\t\", index_col=0)"
   ]
  },
  {
   "cell_type": "code",
   "execution_count": 4,
   "metadata": {},
   "outputs": [],
   "source": [
    "def subset_to_experiments_in_metadata(counts_df: pd.DataFrame) -> pd.DataFrame:\n",
    "    meta_df = pd.read_csv(METADATA_PATH, sep=\"\\t\", index_col=0)\n",
    "    experiments = list(sorted(set(meta_df[\"Assay Name\"])))\n",
    "    counts_df = pd.concat((counts_df.iloc[:, :3], counts_df[experiments]), axis=1)\n",
    "    counts_df.columns = [c.split(\".\")[0] for c in counts_df.columns]\n",
    "    return counts_df\n",
    "\n",
    "\n",
    "def convert_to_tpm(rpkm_df: pd.DataFrame) -> pd.DataFrame:\n",
    "    tpm_df = rpkm_df.copy()\n",
    "    for c in tpm_df.columns[3:]:\n",
    "        tpm_df[c] = tpm_df[c] / tpm_df[c].sum() * 1e6\n",
    "    return tpm_df\n",
    "\n",
    "\n",
    "def remove_low_expression_genes(counts_df: pd.DataFrame) -> pd.DataFrame:\n",
    "    # Remove genes with 0 counts in >= 50% samples\n",
    "    n_zero_samples = (counts_df.iloc[:, 3:] == 0).sum(axis=1)\n",
    "    frac_zero_samples = n_zero_samples / (counts_df.shape[1] - 3)\n",
    "    counts_df = counts_df.loc[frac_zero_samples < 0.5].copy()\n",
    "    return counts_df"
   ]
  },
  {
   "cell_type": "code",
   "execution_count": 5,
   "metadata": {},
   "outputs": [],
   "source": [
    "rpkm_df = subset_to_experiments_in_metadata(rpkm_df)\n",
    "tpm_df = convert_to_tpm(rpkm_df)\n",
    "tpm_df = remove_low_expression_genes(tpm_df)"
   ]
  },
  {
   "cell_type": "code",
   "execution_count": 6,
   "metadata": {},
   "outputs": [],
   "source": [
    "rpkm_df = pd.read_csv(\"../rpkm/unnormalized_rpkm_processed.csv\", index_col=0)\n",
    "assert set(rpkm_df.columns) == set(tpm_df.columns)\n",
    "assert set(rpkm_df.index) == set(tpm_df.index)"
   ]
  },
  {
   "cell_type": "code",
   "execution_count": 7,
   "metadata": {},
   "outputs": [
    {
     "name": "stderr",
     "output_type": "stream",
     "text": [
      "  0%|          | 9/23722 [00:00<04:32, 86.96it/s]"
     ]
    },
    {
     "name": "stderr",
     "output_type": "stream",
     "text": [
      "100%|██████████| 23722/23722 [01:34<00:00, 252.18it/s]\n"
     ]
    },
    {
     "data": {
      "text/plain": [
       "<Axes: ylabel='Density'>"
      ]
     },
     "execution_count": 7,
     "metadata": {},
     "output_type": "execute_result"
    },
    {
     "data": {
      "image/png": "[encoded data removed]",
      "text/plain": [
       "<Figure size 640x480 with 1 Axes>"
      ]
     },
     "metadata": {},
     "output_type": "display_data"
    }
   ],
   "source": [
    "# Compute correlations between RPKM and TPM\n",
    "corrs = {}\n",
    "samples = rpkm_df.columns[3:]\n",
    "for g in tqdm(tpm_df.index):\n",
    "    corrs[g] = spearmanr(rpkm_df.loc[g, samples], tpm_df.loc[g, samples])[0]\n",
    "\n",
    "sns.histplot(\n",
    "    x=list(corrs.values()),\n",
    "    bins=50,\n",
    "    kde=True,\n",
    "    stat=\"density\",\n",
    ")"
   ]
  },
  {
   "cell_type": "code",
   "execution_count": 8,
   "metadata": {},
   "outputs": [],
   "source": [
    "tpm_df.to_csv(\"tpm.csv.gz\", index=True)"
   ]
  },
  {
   "cell_type": "code",
   "execution_count": null,
   "metadata": {},
   "outputs": [],
   "source": []
  }
 ],
 "metadata": {
  "kernelspec": {
   "display_name": "sc",
   "language": "python",
   "name": "python3"
  },
  "language_info": {
   "codemirror_mode": {
    "name": "ipython",
    "version": 3
   },
   "file_extension": ".py",
   "mimetype": "text/x-python",
   "name": "python",
   "nbconvert_exporter": "python",
   "pygments_lexer": "ipython3",
   "version": "3.10.12"
  }
 },
 "nbformat": 4,
 "nbformat_minor": 2
}
