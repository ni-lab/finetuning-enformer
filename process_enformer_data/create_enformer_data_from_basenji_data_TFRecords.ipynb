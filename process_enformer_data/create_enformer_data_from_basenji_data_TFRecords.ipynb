{
 "cells": [
  {
   "cell_type": "code",
   "execution_count": 1,
   "id": "d68002b1",
   "metadata": {},
   "outputs": [
    {
     "name": "stderr",
     "output_type": "stream",
     "text": [
      "2024-02-18 14:17:51.240237: I tensorflow/core/util/port.cc:113] oneDNN custom operations are on. You may see slightly different numerical results due to floating-point round-off errors from different computation orders. To turn them off, set the environment variable `TF_ENABLE_ONEDNN_OPTS=0`.\n",
      "2024-02-18 14:17:51.352864: E external/local_xla/xla/stream_executor/cuda/cuda_dnn.cc:9261] Unable to register cuDNN factory: Attempting to register factory for plugin cuDNN when one has already been registered\n",
      "2024-02-18 14:17:51.352914: E external/local_xla/xla/stream_executor/cuda/cuda_fft.cc:607] Unable to register cuFFT factory: Attempting to register factory for plugin cuFFT when one has already been registered\n",
      "2024-02-18 14:17:51.354874: E external/local_xla/xla/stream_executor/cuda/cuda_blas.cc:1515] Unable to register cuBLAS factory: Attempting to register factory for plugin cuBLAS when one has already been registered\n",
      "2024-02-18 14:17:51.369195: I tensorflow/core/platform/cpu_feature_guard.cc:182] This TensorFlow binary is optimized to use available CPU instructions in performance-critical operations.\n",
      "To enable the following instructions: AVX2 AVX512F AVX512_VNNI FMA, in other operations, rebuild TensorFlow with the appropriate compiler flags.\n",
      "2024-02-18 14:17:53.458012: W tensorflow/compiler/tf2tensorrt/utils/py_utils.cc:38] TF-TRT Warning: Could not find TensorRT\n"
     ]
    }
   ],
   "source": [
    "import os\n",
    "import pandas as pd\n",
    "import numpy as np\n",
    "import matplotlib.pyplot as plt\n",
    "import seaborn as sns\n",
    "from tqdm import tqdm\n",
    "import pdb\n",
    "import json\n",
    "import glob\n",
    "from natsort import natsorted\n",
    "import kipoiseq\n",
    "\n",
    "import basenji\n",
    "from basenji import dataset\n",
    "import tensorflow as tf\n",
    "import tensorflow_probability as tfp\n",
    "\n",
    "from promoter_modelling.utils import fasta_utils"
   ]
  },
  {
   "cell_type": "code",
   "execution_count": 2,
   "id": "52038e8b",
   "metadata": {},
   "outputs": [],
   "source": [
    "# TFRecord constants\n",
    "TFR_INPUT = 'sequence'\n",
    "TFR_OUTPUT = 'target'\n",
    "\n",
    "def file_to_records(filename):\n",
    "    return tf.data.TFRecordDataset(filename, compression_type='ZLIB')\n",
    "\n",
    "def generate_parser(seq_length, seq_1hot, seq_depth, seq_length_crop, target_length, num_targets, with_preds=False, raw=False):\n",
    "    def parse_proto(example_protos):\n",
    "        \"\"\"Parse TFRecord protobuf.\"\"\"\n",
    "\n",
    "        # define features\n",
    "        features = {\n",
    "            TFR_INPUT: tf.io.FixedLenFeature([], tf.string),\n",
    "            TFR_OUTPUT: tf.io.FixedLenFeature([], tf.string)\n",
    "        }\n",
    "        if with_preds:\n",
    "            features = {\n",
    "            TFR_INPUT: tf.io.FixedLenFeature([], tf.string),\n",
    "            TFR_OUTPUT: tf.io.FixedLenFeature([], tf.string),\n",
    "            \"cross2020_prediction\": tf.io.FixedLenFeature([], tf.string),\n",
    "        }\n",
    "\n",
    "        # parse example into features\n",
    "        parsed_features = tf.io.parse_single_example(example_protos, features=features)\n",
    "\n",
    "        # decode sequence\n",
    "        sequence = tf.io.decode_raw(parsed_features[TFR_INPUT], tf.uint8)\n",
    "        if not raw:\n",
    "            if seq_1hot:\n",
    "                sequence = tf.reshape(sequence, [seq_length])\n",
    "                sequence = tf.one_hot(sequence, 1+seq_depth, dtype=tf.uint8)\n",
    "                sequence = sequence[:,:-1] # drop N\n",
    "            else:\n",
    "                sequence = tf.reshape(sequence, [seq_length, seq_depth])\n",
    "            if seq_length_crop is not None:\n",
    "                crop_len = (seq_length - seq_length_crop) // 2\n",
    "                sequence = sequence[crop_len:-crop_len,:]\n",
    "            sequence = tf.cast(sequence, tf.float32)\n",
    "\n",
    "        # decode targets\n",
    "        targets = tf.io.decode_raw(parsed_features[TFR_OUTPUT], tf.float16)\n",
    "        if not raw:\n",
    "            targets = tf.reshape(targets, [target_length, num_targets])\n",
    "            targets = tf.cast(targets, tf.float32)\n",
    "        \n",
    "        if with_preds:\n",
    "            # decode targets\n",
    "            cross2020_prediction = tf.io.decode_raw(parsed_features[\"cross2020_prediction\"], tf.float16)\n",
    "            if not raw:\n",
    "                cross2020_prediction = tf.reshape(cross2020_prediction, [target_length, num_targets])\n",
    "                cross2020_prediction = tf.cast(cross2020_prediction, tf.float32)\n",
    "            return sequence, targets, cross2020_prediction\n",
    "\n",
    "        return sequence, targets\n",
    "\n",
    "    return parse_proto"
   ]
  },
  {
   "cell_type": "code",
   "execution_count": 3,
   "id": "0730141f",
   "metadata": {},
   "outputs": [],
   "source": [
    "def feature_bytes(values):\n",
    "    \"\"\"Convert numpy arrays to bytes features.\"\"\"\n",
    "    values = values.flatten().tobytes()\n",
    "    return tf.train.Feature(bytes_list=tf.train.BytesList(value=[values]))\n",
    "\n",
    "def serialize_example(sequence, target, cross2020_prediction=None):\n",
    "    \"\"\"\n",
    "    Creates a tf.train.Example message ready to be written to a file.\n",
    "    \"\"\"\n",
    "    # Create a dictionary mapping the feature name to the tf.train.Example-compatible\n",
    "    # data type.\n",
    "    if cross2020_prediction is not None:\n",
    "        feature = {\n",
    "          'sequence': feature_bytes(sequence),\n",
    "          'target': feature_bytes(target),\n",
    "          'cross2020_prediction': feature_bytes(cross2020_prediction.astype(\"float16\")),\n",
    "        }\n",
    "    else:\n",
    "        feature = {\n",
    "          'sequence': feature_bytes(sequence),\n",
    "          'target': feature_bytes(target),\n",
    "        }\n",
    "\n",
    "    # Create a Features message using tf.train.Example.\n",
    "\n",
    "    example_proto = tf.train.Example(features=tf.train.Features(feature=feature))\n",
    "    return example_proto.SerializeToString()"
   ]
  },
  {
   "cell_type": "code",
   "execution_count": null,
   "id": "aac5f9f1",
   "metadata": {},
   "outputs": [],
   "source": [
    "# the default Pytorch dataloader for TFRecords doesn't support compressed TFRecords that are created\n",
    "# by the following code. Therefore, it has been commented out.\n",
    "\n",
    "# root_data_dir = \"/clusterfs/nilah/richard/basenji2/data_pretrained_basenji2\"\n",
    "# enformer_root_data_dir = \"/clusterfs/nilah/enformer_data/\"\n",
    "# split_labels = [\"train\", \"test\", \"valid\"]\n",
    "\n",
    "# ind_to_base = np.array([\"A\", \"C\", \"G\", \"T\"])\n",
    "# enformer_input_size = 196608\n",
    "\n",
    "# for i, species in enumerate([\"human\", \"mouse\"]):\n",
    "#     print(species)\n",
    "    \n",
    "#     data_dir = os.path.join(root_data_dir, species)\n",
    "    \n",
    "#     if species == \"human\":\n",
    "#         fasta_file = \"/clusterfs/nilah/aniketh/hg38/hg38.fa\"\n",
    "#         chromosome_sizes = \"/global/home/users/aniketh/basenji_CL_trial/data/human.hg38.genome\"\n",
    "#     elif species == \"mouse\":\n",
    "#         fasta_file = \"/clusterfs/nilah/aniketh/mm10/mm10.fa\"\n",
    "#         chromosome_sizes = \"/global/home/users/aniketh/basenji_CL_trial/data/mouse.mm10.genome\"\n",
    "        \n",
    "#     fasta_extractor = fasta_utils.FastaStringExtractor(fasta_file)\n",
    "#     chromosome_sizes = pd.read_csv(chromosome_sizes, sep=\"\\t\", names=[\"chromosome\", \"size\"], header=None)\n",
    "    \n",
    "#     # create new enformer data dirs\n",
    "#     enformer_species_data_dir = os.path.join(enformer_root_data_dir, species)\n",
    "#     os.makedirs(enformer_species_data_dir, exist_ok=True)\n",
    "#     os.makedirs(os.path.join(enformer_species_data_dir, \"tfrecords\"), exist_ok=True)\n",
    "    \n",
    "#     # read data parameters\n",
    "#     data_stats_file = '%s/statistics.json' % data_dir\n",
    "#     with open(data_stats_file) as data_stats_open:\n",
    "#         data_stats = json.load(data_stats_open)\n",
    "\n",
    "#     seq_length = data_stats['seq_length']\n",
    "#     seq_depth = data_stats.get('seq_depth',4)\n",
    "#     seq_1hot = data_stats.get('seq_1hot', False)\n",
    "#     target_length = data_stats['target_length']\n",
    "#     num_targets = data_stats['num_targets']\n",
    "#     pool_width = data_stats['pool_width']\n",
    "    \n",
    "#     # enformer data parameters\n",
    "#     enformer_data_stats_file = '%s/statistics.json' % enformer_species_data_dir\n",
    "#     enformer_data_stats = data_stats.copy()\n",
    "#     enformer_data_stats['seq_length'] = enformer_input_size\n",
    "    \n",
    "#     with open(enformer_data_stats_file, \"w+\") as enformer_data_stats_open:\n",
    "#         json.dump(enformer_data_stats, enformer_data_stats_open, indent=4)\n",
    "    \n",
    "#     # read sequences BED file\n",
    "#     all_sequences = pd.read_csv(os.path.join(root_data_dir, species, \"sequences.bed\"), \n",
    "#                                 sep=\"\\t\", \n",
    "#                                 names=[\"chromosome\", \"start\", \"end\", \"split\"], \n",
    "#                                 header=None)\n",
    "    \n",
    "#     # copy it over to enformer data dir\n",
    "#     os.system(\"cp {} {}\".format(os.path.join(root_data_dir, species, \"sequences.bed\"), os.path.join(enformer_root_data_dir, species, \"sequences.bed\")))\n",
    "#     # also copy over targets info\n",
    "#     os.system(\"cp {} {}\".format(os.path.join(root_data_dir, species, \"targets.txt\"), os.path.join(enformer_root_data_dir, species, \"targets.txt\")))\n",
    "    \n",
    "#     # compute extra sequence to be extracted from each side of original sequence\n",
    "#     extra_seq_needed = (enformer_data_stats['seq_length'] - seq_length) // 2\n",
    "    \n",
    "#     for split_label in split_labels:\n",
    "#         print(split_label)\n",
    "        \n",
    "#         subset_all_sequences = all_sequences[all_sequences[\"split\"] == split_label].reset_index(drop=True)\n",
    "\n",
    "#         # collect tfrecords\n",
    "#         tfr_path = '%s/tfrecords/%s-*.tfr' % (data_dir, split_label)\n",
    "#         tfr_files = natsorted(glob.glob(tfr_path))\n",
    "        \n",
    "#         total_rec_count = 0\n",
    "#         for f in tfr_files:\n",
    "#             print(f)\n",
    "            \n",
    "#             new_f = f.replace(data_dir, enformer_species_data_dir)\n",
    "#             fcn = f.split(\"-\")[-1].split(\".\")[0]\n",
    "\n",
    "#             if os.path.exists(new_f):\n",
    "#                 print(\"TFRecords already exist, not rewriting...\")\n",
    "            \n",
    "#             file = tf.data.TFRecordDataset(f, compression_type='ZLIB').map(generate_parser(seq_length, seq_1hot, seq_depth, None, target_length, num_targets))\n",
    "            \n",
    "#             check = True\n",
    "#             if not os.path.exists(new_f):\n",
    "#                 new_file = tf.io.TFRecordWriter(new_f, 'ZLIB')\n",
    "#                 check = False\n",
    "            \n",
    "#             for record in tqdm(file.batch(1)):\n",
    "#                 sequence, target = record\n",
    "#                 sequence = sequence.numpy().astype(\"uint8\")\n",
    "#                 target = target.numpy().astype(\"float16\")\n",
    "                \n",
    "#                 # assert that genomic locus from sequences BED file matches the sequence in this record\n",
    "#                 row = subset_all_sequences.iloc[total_rec_count]\n",
    "#                 sequence_from_fasta = fasta_utils.get_sequence(row[\"chromosome\"], \\\n",
    "#                                                                row[\"start\"] + 1, \\\n",
    "#                                                                row[\"end\"] + 1, \\\n",
    "#                                                                \".\", \\\n",
    "#                                                                fasta_extractor)\n",
    "#                 sequence_from_fasta = np.array([_ for _ in sequence_from_fasta])\n",
    "#                 sequence_from_one_hot = ind_to_base[sequence[0].argmax(axis=-1)]\n",
    "#                 N_mask = sequence_from_fasta == \"N\"\n",
    "#                 assert np.all(sequence_from_one_hot[~N_mask] == sequence_from_fasta[~N_mask])\n",
    "                \n",
    "#                 # now get expanded sequence\n",
    "#                 # left pad if needed\n",
    "#                 expanded_sequence_start = max(1, row[\"start\"] + 1 - extra_seq_needed)\n",
    "#                 if expanded_sequence_start == 1:\n",
    "#                     left_pad = \"\".join([\"N\" for _ in range(1 - (row[\"start\"] + 1 - extra_seq_needed))])\n",
    "#                 else:\n",
    "#                     left_pad = \"\"                    \n",
    "                \n",
    "#                 # right pad if needed\n",
    "#                 chr_size = chromosome_sizes[chromosome_sizes[\"chromosome\"] == row[\"chromosome\"]].iloc[0][\"size\"]\n",
    "#                 expanded_sequence_end = min(chr_size + 1, row[\"end\"] + 1 + extra_seq_needed)\n",
    "#                 if expanded_sequence_end == (chr_size + 1):\n",
    "#                     right_pad = \"\".join([\"N\" for _ in range((row[\"end\"] + 1 + extra_seq_needed) - (chr_size + 1))])\n",
    "#                 else:\n",
    "#                     right_pad = \"\"                \n",
    "                \n",
    "#                 expanded_sequence = fasta_utils.get_sequence(row[\"chromosome\"], \\\n",
    "#                                                              expanded_sequence_start, \\\n",
    "#                                                              expanded_sequence_end, \\\n",
    "#                                                              \".\", \\\n",
    "#                                                              fasta_extractor)\n",
    "#                 expanded_sequence = left_pad + expanded_sequence + right_pad\n",
    "#                 assert len(expanded_sequence) == enformer_input_size\n",
    "                \n",
    "#                 # one-hot encode it\n",
    "#                 expanded_sequence = np.array([i.upper() for i in expanded_sequence])\n",
    "#                 expanded_sequence_1hot = np.zeros((len(expanded_sequence), 4), dtype=\"uint8\")\n",
    "#                 expanded_sequence_1hot[expanded_sequence == \"A\", 0] = 1\n",
    "#                 expanded_sequence_1hot[expanded_sequence == \"C\", 1] = 1\n",
    "#                 expanded_sequence_1hot[expanded_sequence == \"G\", 2] = 1\n",
    "#                 expanded_sequence_1hot[expanded_sequence == \"T\", 3] = 1\n",
    "#                 expanded_sequence_1hot = expanded_sequence_1hot.reshape(1, len(expanded_sequence), 4)\n",
    "                                \n",
    "#                 if not check:\n",
    "#                     new_file.write(serialize_example(expanded_sequence_1hot, target))\n",
    "                \n",
    "#                 total_rec_count += 1"
   ]
  },
  {
   "cell_type": "code",
   "execution_count": 4,
   "id": "045b9964",
   "metadata": {},
   "outputs": [
    {
     "name": "stdout",
     "output_type": "stream",
     "text": [
      "human\n",
      "train\n",
      "/clusterfs/nilah/richard/basenji2/data_pretrained_basenji2/human/tfrecords/train-0-0.tfr\n"
     ]
    },
    {
     "name": "stderr",
     "output_type": "stream",
     "text": [
      "2024-02-18 14:18:34.956718: I tensorflow/core/common_runtime/gpu/gpu_device.cc:1929] Created device /job:localhost/replica:0/task:0/device:GPU:0 with 22997 MB memory:  -> device: 0, name: NVIDIA TITAN RTX, pci bus id: 0000:1a:00.0, compute capability: 7.5\n",
      "2024-02-18 14:18:34.958205: I tensorflow/core/common_runtime/gpu/gpu_device.cc:1929] Created device /job:localhost/replica:0/task:0/device:GPU:1 with 22997 MB memory:  -> device: 1, name: NVIDIA TITAN RTX, pci bus id: 0000:1b:00.0, compute capability: 7.5\n",
      "2024-02-18 14:18:34.959403: I tensorflow/core/common_runtime/gpu/gpu_device.cc:1929] Created device /job:localhost/replica:0/task:0/device:GPU:2 with 22997 MB memory:  -> device: 2, name: NVIDIA TITAN RTX, pci bus id: 0000:60:00.0, compute capability: 7.5\n",
      "2024-02-18 14:18:34.960569: I tensorflow/core/common_runtime/gpu/gpu_device.cc:1929] Created device /job:localhost/replica:0/task:0/device:GPU:3 with 22997 MB memory:  -> device: 3, name: NVIDIA TITAN RTX, pci bus id: 0000:61:00.0, compute capability: 7.5\n",
      "2024-02-18 14:18:34.961703: I tensorflow/core/common_runtime/gpu/gpu_device.cc:1929] Created device /job:localhost/replica:0/task:0/device:GPU:4 with 22997 MB memory:  -> device: 4, name: NVIDIA TITAN RTX, pci bus id: 0000:b1:00.0, compute capability: 7.5\n",
      "2024-02-18 14:18:34.963200: I tensorflow/core/common_runtime/gpu/gpu_device.cc:1929] Created device /job:localhost/replica:0/task:0/device:GPU:5 with 22997 MB memory:  -> device: 5, name: NVIDIA TITAN RTX, pci bus id: 0000:b2:00.0, compute capability: 7.5\n",
      "2024-02-18 14:18:34.964341: I tensorflow/core/common_runtime/gpu/gpu_device.cc:1929] Created device /job:localhost/replica:0/task:0/device:GPU:6 with 22997 MB memory:  -> device: 6, name: NVIDIA TITAN RTX, pci bus id: 0000:da:00.0, compute capability: 7.5\n",
      "2024-02-18 14:18:34.965581: I tensorflow/core/common_runtime/gpu/gpu_device.cc:1929] Created device /job:localhost/replica:0/task:0/device:GPU:7 with 22997 MB memory:  -> device: 7, name: NVIDIA TITAN RTX, pci bus id: 0000:db:00.0, compute capability: 7.5\n",
      "256it [00:50,  5.06it/s]\n"
     ]
    },
    {
     "name": "stdout",
     "output_type": "stream",
     "text": [
      "/clusterfs/nilah/richard/basenji2/data_pretrained_basenji2/human/tfrecords/train-0-1.tfr\n"
     ]
    },
    {
     "name": "stderr",
     "output_type": "stream",
     "text": [
      "256it [00:44,  5.72it/s]\n"
     ]
    },
    {
     "name": "stdout",
     "output_type": "stream",
     "text": [
      "/clusterfs/nilah/richard/basenji2/data_pretrained_basenji2/human/tfrecords/train-0-2.tfr\n"
     ]
    },
    {
     "name": "stderr",
     "output_type": "stream",
     "text": [
      "256it [00:45,  5.59it/s]\n"
     ]
    },
    {
     "name": "stdout",
     "output_type": "stream",
     "text": [
      "/clusterfs/nilah/richard/basenji2/data_pretrained_basenji2/human/tfrecords/train-0-3.tfr\n"
     ]
    },
    {
     "name": "stderr",
     "output_type": "stream",
     "text": [
      "256it [00:40,  6.36it/s]\n"
     ]
    },
    {
     "name": "stdout",
     "output_type": "stream",
     "text": [
      "/clusterfs/nilah/richard/basenji2/data_pretrained_basenji2/human/tfrecords/train-0-4.tfr\n"
     ]
    },
    {
     "name": "stderr",
     "output_type": "stream",
     "text": [
      "256it [00:39,  6.55it/s]\n"
     ]
    },
    {
     "name": "stdout",
     "output_type": "stream",
     "text": [
      "/clusterfs/nilah/richard/basenji2/data_pretrained_basenji2/human/tfrecords/train-0-5.tfr\n"
     ]
    },
    {
     "name": "stderr",
     "output_type": "stream",
     "text": [
      "256it [00:41,  6.22it/s]\n"
     ]
    },
    {
     "name": "stdout",
     "output_type": "stream",
     "text": [
      "/clusterfs/nilah/richard/basenji2/data_pretrained_basenji2/human/tfrecords/train-0-6.tfr\n"
     ]
    },
    {
     "name": "stderr",
     "output_type": "stream",
     "text": [
      "256it [00:38,  6.62it/s]\n"
     ]
    },
    {
     "name": "stdout",
     "output_type": "stream",
     "text": [
      "/clusterfs/nilah/richard/basenji2/data_pretrained_basenji2/human/tfrecords/train-0-7.tfr\n"
     ]
    },
    {
     "name": "stderr",
     "output_type": "stream",
     "text": [
      "256it [00:41,  6.20it/s]\n"
     ]
    },
    {
     "name": "stdout",
     "output_type": "stream",
     "text": [
      "/clusterfs/nilah/richard/basenji2/data_pretrained_basenji2/human/tfrecords/train-0-8.tfr\n"
     ]
    },
    {
     "name": "stderr",
     "output_type": "stream",
     "text": [
      "256it [00:39,  6.47it/s]\n"
     ]
    },
    {
     "name": "stdout",
     "output_type": "stream",
     "text": [
      "/clusterfs/nilah/richard/basenji2/data_pretrained_basenji2/human/tfrecords/train-0-9.tfr\n"
     ]
    },
    {
     "name": "stderr",
     "output_type": "stream",
     "text": [
      "256it [00:40,  6.31it/s]\n"
     ]
    },
    {
     "name": "stdout",
     "output_type": "stream",
     "text": [
      "/clusterfs/nilah/richard/basenji2/data_pretrained_basenji2/human/tfrecords/train-0-10.tfr\n"
     ]
    },
    {
     "name": "stderr",
     "output_type": "stream",
     "text": [
      "256it [00:39,  6.49it/s]\n"
     ]
    },
    {
     "name": "stdout",
     "output_type": "stream",
     "text": [
      "/clusterfs/nilah/richard/basenji2/data_pretrained_basenji2/human/tfrecords/train-0-11.tfr\n"
     ]
    },
    {
     "name": "stderr",
     "output_type": "stream",
     "text": [
      "256it [00:38,  6.66it/s]\n"
     ]
    },
    {
     "name": "stdout",
     "output_type": "stream",
     "text": [
      "/clusterfs/nilah/richard/basenji2/data_pretrained_basenji2/human/tfrecords/train-0-12.tfr\n"
     ]
    },
    {
     "name": "stderr",
     "output_type": "stream",
     "text": [
      "256it [00:39,  6.42it/s]\n"
     ]
    },
    {
     "name": "stdout",
     "output_type": "stream",
     "text": [
      "/clusterfs/nilah/richard/basenji2/data_pretrained_basenji2/human/tfrecords/train-0-13.tfr\n"
     ]
    },
    {
     "name": "stderr",
     "output_type": "stream",
     "text": [
      "256it [00:37,  6.86it/s]\n"
     ]
    },
    {
     "name": "stdout",
     "output_type": "stream",
     "text": [
      "/clusterfs/nilah/richard/basenji2/data_pretrained_basenji2/human/tfrecords/train-0-14.tfr\n"
     ]
    },
    {
     "name": "stderr",
     "output_type": "stream",
     "text": [
      "256it [00:37,  6.83it/s]\n"
     ]
    },
    {
     "name": "stdout",
     "output_type": "stream",
     "text": [
      "/clusterfs/nilah/richard/basenji2/data_pretrained_basenji2/human/tfrecords/train-0-15.tfr\n"
     ]
    },
    {
     "name": "stderr",
     "output_type": "stream",
     "text": [
      "256it [00:36,  6.94it/s]\n"
     ]
    },
    {
     "name": "stdout",
     "output_type": "stream",
     "text": [
      "/clusterfs/nilah/richard/basenji2/data_pretrained_basenji2/human/tfrecords/train-0-16.tfr\n"
     ]
    },
    {
     "name": "stderr",
     "output_type": "stream",
     "text": [
      "256it [00:36,  6.95it/s]\n"
     ]
    },
    {
     "name": "stdout",
     "output_type": "stream",
     "text": [
      "/clusterfs/nilah/richard/basenji2/data_pretrained_basenji2/human/tfrecords/train-0-17.tfr\n"
     ]
    },
    {
     "name": "stderr",
     "output_type": "stream",
     "text": [
      "256it [00:36,  7.01it/s]\n"
     ]
    },
    {
     "name": "stdout",
     "output_type": "stream",
     "text": [
      "/clusterfs/nilah/richard/basenji2/data_pretrained_basenji2/human/tfrecords/train-0-18.tfr\n"
     ]
    },
    {
     "name": "stderr",
     "output_type": "stream",
     "text": [
      "256it [00:36,  7.06it/s]\n"
     ]
    },
    {
     "name": "stdout",
     "output_type": "stream",
     "text": [
      "/clusterfs/nilah/richard/basenji2/data_pretrained_basenji2/human/tfrecords/train-0-19.tfr\n"
     ]
    },
    {
     "name": "stderr",
     "output_type": "stream",
     "text": [
      "256it [00:36,  7.04it/s]\n"
     ]
    },
    {
     "name": "stdout",
     "output_type": "stream",
     "text": [
      "/clusterfs/nilah/richard/basenji2/data_pretrained_basenji2/human/tfrecords/train-0-20.tfr\n"
     ]
    },
    {
     "name": "stderr",
     "output_type": "stream",
     "text": [
      "256it [00:42,  6.04it/s]\n"
     ]
    },
    {
     "name": "stdout",
     "output_type": "stream",
     "text": [
      "/clusterfs/nilah/richard/basenji2/data_pretrained_basenji2/human/tfrecords/train-0-21.tfr\n"
     ]
    },
    {
     "name": "stderr",
     "output_type": "stream",
     "text": [
      "256it [00:37,  6.90it/s]\n"
     ]
    },
    {
     "name": "stdout",
     "output_type": "stream",
     "text": [
      "/clusterfs/nilah/richard/basenji2/data_pretrained_basenji2/human/tfrecords/train-0-22.tfr\n"
     ]
    },
    {
     "name": "stderr",
     "output_type": "stream",
     "text": [
      "256it [00:38,  6.68it/s]\n"
     ]
    },
    {
     "name": "stdout",
     "output_type": "stream",
     "text": [
      "/clusterfs/nilah/richard/basenji2/data_pretrained_basenji2/human/tfrecords/train-0-23.tfr\n"
     ]
    },
    {
     "name": "stderr",
     "output_type": "stream",
     "text": [
      "256it [00:35,  7.12it/s]\n"
     ]
    },
    {
     "name": "stdout",
     "output_type": "stream",
     "text": [
      "/clusterfs/nilah/richard/basenji2/data_pretrained_basenji2/human/tfrecords/train-0-24.tfr\n"
     ]
    },
    {
     "name": "stderr",
     "output_type": "stream",
     "text": [
      "256it [00:38,  6.63it/s]\n"
     ]
    },
    {
     "name": "stdout",
     "output_type": "stream",
     "text": [
      "/clusterfs/nilah/richard/basenji2/data_pretrained_basenji2/human/tfrecords/train-0-25.tfr\n"
     ]
    },
    {
     "name": "stderr",
     "output_type": "stream",
     "text": [
      "256it [00:36,  7.00it/s]\n"
     ]
    },
    {
     "name": "stdout",
     "output_type": "stream",
     "text": [
      "/clusterfs/nilah/richard/basenji2/data_pretrained_basenji2/human/tfrecords/train-0-26.tfr\n"
     ]
    },
    {
     "name": "stderr",
     "output_type": "stream",
     "text": [
      "256it [00:37,  6.91it/s]\n"
     ]
    },
    {
     "name": "stdout",
     "output_type": "stream",
     "text": [
      "/clusterfs/nilah/richard/basenji2/data_pretrained_basenji2/human/tfrecords/train-0-27.tfr\n"
     ]
    },
    {
     "name": "stderr",
     "output_type": "stream",
     "text": [
      "256it [00:38,  6.65it/s]\n"
     ]
    },
    {
     "name": "stdout",
     "output_type": "stream",
     "text": [
      "/clusterfs/nilah/richard/basenji2/data_pretrained_basenji2/human/tfrecords/train-0-28.tfr\n"
     ]
    },
    {
     "name": "stderr",
     "output_type": "stream",
     "text": [
      "256it [00:34,  7.37it/s]\n"
     ]
    },
    {
     "name": "stdout",
     "output_type": "stream",
     "text": [
      "/clusterfs/nilah/richard/basenji2/data_pretrained_basenji2/human/tfrecords/train-0-29.tfr\n"
     ]
    },
    {
     "name": "stderr",
     "output_type": "stream",
     "text": [
      "256it [00:40,  6.36it/s]\n"
     ]
    },
    {
     "name": "stdout",
     "output_type": "stream",
     "text": [
      "/clusterfs/nilah/richard/basenji2/data_pretrained_basenji2/human/tfrecords/train-0-30.tfr\n"
     ]
    },
    {
     "name": "stderr",
     "output_type": "stream",
     "text": [
      "256it [00:39,  6.54it/s]\n"
     ]
    },
    {
     "name": "stdout",
     "output_type": "stream",
     "text": [
      "/clusterfs/nilah/richard/basenji2/data_pretrained_basenji2/human/tfrecords/train-0-31.tfr\n"
     ]
    },
    {
     "name": "stderr",
     "output_type": "stream",
     "text": [
      "256it [00:35,  7.28it/s]\n"
     ]
    },
    {
     "name": "stdout",
     "output_type": "stream",
     "text": [
      "/clusterfs/nilah/richard/basenji2/data_pretrained_basenji2/human/tfrecords/train-0-32.tfr\n"
     ]
    },
    {
     "name": "stderr",
     "output_type": "stream",
     "text": [
      "256it [00:39,  6.56it/s]\n"
     ]
    },
    {
     "name": "stdout",
     "output_type": "stream",
     "text": [
      "/clusterfs/nilah/richard/basenji2/data_pretrained_basenji2/human/tfrecords/train-0-33.tfr\n"
     ]
    },
    {
     "name": "stderr",
     "output_type": "stream",
     "text": [
      "256it [00:43,  5.94it/s]\n"
     ]
    },
    {
     "name": "stdout",
     "output_type": "stream",
     "text": [
      "/clusterfs/nilah/richard/basenji2/data_pretrained_basenji2/human/tfrecords/train-0-34.tfr\n"
     ]
    },
    {
     "name": "stderr",
     "output_type": "stream",
     "text": [
      "256it [00:37,  6.86it/s]\n"
     ]
    },
    {
     "name": "stdout",
     "output_type": "stream",
     "text": [
      "/clusterfs/nilah/richard/basenji2/data_pretrained_basenji2/human/tfrecords/train-0-35.tfr\n"
     ]
    },
    {
     "name": "stderr",
     "output_type": "stream",
     "text": [
      "256it [00:35,  7.20it/s]\n"
     ]
    },
    {
     "name": "stdout",
     "output_type": "stream",
     "text": [
      "/clusterfs/nilah/richard/basenji2/data_pretrained_basenji2/human/tfrecords/train-0-36.tfr\n"
     ]
    },
    {
     "name": "stderr",
     "output_type": "stream",
     "text": [
      "256it [00:34,  7.51it/s]\n"
     ]
    },
    {
     "name": "stdout",
     "output_type": "stream",
     "text": [
      "/clusterfs/nilah/richard/basenji2/data_pretrained_basenji2/human/tfrecords/train-0-37.tfr\n"
     ]
    },
    {
     "name": "stderr",
     "output_type": "stream",
     "text": [
      "256it [00:35,  7.29it/s]\n"
     ]
    },
    {
     "name": "stdout",
     "output_type": "stream",
     "text": [
      "/clusterfs/nilah/richard/basenji2/data_pretrained_basenji2/human/tfrecords/train-0-38.tfr\n"
     ]
    },
    {
     "name": "stderr",
     "output_type": "stream",
     "text": [
      "256it [00:35,  7.25it/s]\n"
     ]
    },
    {
     "name": "stdout",
     "output_type": "stream",
     "text": [
      "/clusterfs/nilah/richard/basenji2/data_pretrained_basenji2/human/tfrecords/train-0-39.tfr\n"
     ]
    },
    {
     "name": "stderr",
     "output_type": "stream",
     "text": [
      "256it [00:34,  7.39it/s]\n"
     ]
    },
    {
     "name": "stdout",
     "output_type": "stream",
     "text": [
      "/clusterfs/nilah/richard/basenji2/data_pretrained_basenji2/human/tfrecords/train-0-40.tfr\n"
     ]
    },
    {
     "name": "stderr",
     "output_type": "stream",
     "text": [
      "256it [00:36,  6.94it/s]\n"
     ]
    },
    {
     "name": "stdout",
     "output_type": "stream",
     "text": [
      "/clusterfs/nilah/richard/basenji2/data_pretrained_basenji2/human/tfrecords/train-0-41.tfr\n"
     ]
    },
    {
     "name": "stderr",
     "output_type": "stream",
     "text": [
      "256it [00:34,  7.49it/s]\n"
     ]
    },
    {
     "name": "stdout",
     "output_type": "stream",
     "text": [
      "/clusterfs/nilah/richard/basenji2/data_pretrained_basenji2/human/tfrecords/train-0-42.tfr\n"
     ]
    },
    {
     "name": "stderr",
     "output_type": "stream",
     "text": [
      "256it [00:36,  7.06it/s]\n"
     ]
    },
    {
     "name": "stdout",
     "output_type": "stream",
     "text": [
      "/clusterfs/nilah/richard/basenji2/data_pretrained_basenji2/human/tfrecords/train-0-43.tfr\n"
     ]
    },
    {
     "name": "stderr",
     "output_type": "stream",
     "text": [
      "256it [00:34,  7.39it/s]\n"
     ]
    },
    {
     "name": "stdout",
     "output_type": "stream",
     "text": [
      "/clusterfs/nilah/richard/basenji2/data_pretrained_basenji2/human/tfrecords/train-0-44.tfr\n"
     ]
    },
    {
     "name": "stderr",
     "output_type": "stream",
     "text": [
      "256it [00:34,  7.51it/s]\n"
     ]
    },
    {
     "name": "stdout",
     "output_type": "stream",
     "text": [
      "/clusterfs/nilah/richard/basenji2/data_pretrained_basenji2/human/tfrecords/train-0-45.tfr\n"
     ]
    },
    {
     "name": "stderr",
     "output_type": "stream",
     "text": [
      "256it [00:33,  7.53it/s]\n"
     ]
    },
    {
     "name": "stdout",
     "output_type": "stream",
     "text": [
      "/clusterfs/nilah/richard/basenji2/data_pretrained_basenji2/human/tfrecords/train-0-46.tfr\n"
     ]
    },
    {
     "name": "stderr",
     "output_type": "stream",
     "text": [
      "256it [00:34,  7.36it/s]\n"
     ]
    },
    {
     "name": "stdout",
     "output_type": "stream",
     "text": [
      "/clusterfs/nilah/richard/basenji2/data_pretrained_basenji2/human/tfrecords/train-0-47.tfr\n"
     ]
    },
    {
     "name": "stderr",
     "output_type": "stream",
     "text": [
      "256it [00:38,  6.62it/s]\n"
     ]
    },
    {
     "name": "stdout",
     "output_type": "stream",
     "text": [
      "/clusterfs/nilah/richard/basenji2/data_pretrained_basenji2/human/tfrecords/train-0-48.tfr\n"
     ]
    },
    {
     "name": "stderr",
     "output_type": "stream",
     "text": [
      "256it [00:33,  7.59it/s]\n"
     ]
    },
    {
     "name": "stdout",
     "output_type": "stream",
     "text": [
      "/clusterfs/nilah/richard/basenji2/data_pretrained_basenji2/human/tfrecords/train-0-49.tfr\n"
     ]
    },
    {
     "name": "stderr",
     "output_type": "stream",
     "text": [
      "256it [00:34,  7.33it/s]\n"
     ]
    },
    {
     "name": "stdout",
     "output_type": "stream",
     "text": [
      "/clusterfs/nilah/richard/basenji2/data_pretrained_basenji2/human/tfrecords/train-0-50.tfr\n"
     ]
    },
    {
     "name": "stderr",
     "output_type": "stream",
     "text": [
      "256it [00:34,  7.44it/s]\n"
     ]
    },
    {
     "name": "stdout",
     "output_type": "stream",
     "text": [
      "/clusterfs/nilah/richard/basenji2/data_pretrained_basenji2/human/tfrecords/train-0-51.tfr\n"
     ]
    },
    {
     "name": "stderr",
     "output_type": "stream",
     "text": [
      "256it [00:34,  7.32it/s]\n"
     ]
    },
    {
     "name": "stdout",
     "output_type": "stream",
     "text": [
      "/clusterfs/nilah/richard/basenji2/data_pretrained_basenji2/human/tfrecords/train-0-52.tfr\n"
     ]
    },
    {
     "name": "stderr",
     "output_type": "stream",
     "text": [
      "256it [00:39,  6.43it/s]\n"
     ]
    },
    {
     "name": "stdout",
     "output_type": "stream",
     "text": [
      "/clusterfs/nilah/richard/basenji2/data_pretrained_basenji2/human/tfrecords/train-0-53.tfr\n"
     ]
    },
    {
     "name": "stderr",
     "output_type": "stream",
     "text": [
      "256it [00:33,  7.62it/s]\n"
     ]
    },
    {
     "name": "stdout",
     "output_type": "stream",
     "text": [
      "/clusterfs/nilah/richard/basenji2/data_pretrained_basenji2/human/tfrecords/train-0-54.tfr\n"
     ]
    },
    {
     "name": "stderr",
     "output_type": "stream",
     "text": [
      "256it [00:33,  7.55it/s]\n"
     ]
    },
    {
     "name": "stdout",
     "output_type": "stream",
     "text": [
      "/clusterfs/nilah/richard/basenji2/data_pretrained_basenji2/human/tfrecords/train-0-55.tfr\n"
     ]
    },
    {
     "name": "stderr",
     "output_type": "stream",
     "text": [
      "256it [00:34,  7.44it/s]\n"
     ]
    },
    {
     "name": "stdout",
     "output_type": "stream",
     "text": [
      "/clusterfs/nilah/richard/basenji2/data_pretrained_basenji2/human/tfrecords/train-0-56.tfr\n"
     ]
    },
    {
     "name": "stderr",
     "output_type": "stream",
     "text": [
      "256it [00:33,  7.61it/s]\n"
     ]
    },
    {
     "name": "stdout",
     "output_type": "stream",
     "text": [
      "/clusterfs/nilah/richard/basenji2/data_pretrained_basenji2/human/tfrecords/train-0-57.tfr\n"
     ]
    },
    {
     "name": "stderr",
     "output_type": "stream",
     "text": [
      "256it [00:35,  7.30it/s]\n"
     ]
    },
    {
     "name": "stdout",
     "output_type": "stream",
     "text": [
      "/clusterfs/nilah/richard/basenji2/data_pretrained_basenji2/human/tfrecords/train-0-58.tfr\n"
     ]
    },
    {
     "name": "stderr",
     "output_type": "stream",
     "text": [
      "256it [00:33,  7.62it/s]\n"
     ]
    },
    {
     "name": "stdout",
     "output_type": "stream",
     "text": [
      "/clusterfs/nilah/richard/basenji2/data_pretrained_basenji2/human/tfrecords/train-0-59.tfr\n"
     ]
    },
    {
     "name": "stderr",
     "output_type": "stream",
     "text": [
      "256it [00:33,  7.61it/s]\n"
     ]
    },
    {
     "name": "stdout",
     "output_type": "stream",
     "text": [
      "/clusterfs/nilah/richard/basenji2/data_pretrained_basenji2/human/tfrecords/train-0-60.tfr\n"
     ]
    },
    {
     "name": "stderr",
     "output_type": "stream",
     "text": [
      "256it [00:33,  7.66it/s]\n"
     ]
    },
    {
     "name": "stdout",
     "output_type": "stream",
     "text": [
      "/clusterfs/nilah/richard/basenji2/data_pretrained_basenji2/human/tfrecords/train-0-61.tfr\n"
     ]
    },
    {
     "name": "stderr",
     "output_type": "stream",
     "text": [
      "256it [00:34,  7.38it/s]\n"
     ]
    },
    {
     "name": "stdout",
     "output_type": "stream",
     "text": [
      "/clusterfs/nilah/richard/basenji2/data_pretrained_basenji2/human/tfrecords/train-0-62.tfr\n"
     ]
    },
    {
     "name": "stderr",
     "output_type": "stream",
     "text": [
      "256it [00:34,  7.46it/s]\n"
     ]
    },
    {
     "name": "stdout",
     "output_type": "stream",
     "text": [
      "/clusterfs/nilah/richard/basenji2/data_pretrained_basenji2/human/tfrecords/train-0-63.tfr\n"
     ]
    },
    {
     "name": "stderr",
     "output_type": "stream",
     "text": [
      "256it [00:34,  7.38it/s]\n"
     ]
    },
    {
     "name": "stdout",
     "output_type": "stream",
     "text": [
      "/clusterfs/nilah/richard/basenji2/data_pretrained_basenji2/human/tfrecords/train-0-64.tfr\n"
     ]
    },
    {
     "name": "stderr",
     "output_type": "stream",
     "text": [
      "256it [00:33,  7.54it/s]\n"
     ]
    },
    {
     "name": "stdout",
     "output_type": "stream",
     "text": [
      "/clusterfs/nilah/richard/basenji2/data_pretrained_basenji2/human/tfrecords/train-0-65.tfr\n"
     ]
    },
    {
     "name": "stderr",
     "output_type": "stream",
     "text": [
      "256it [00:35,  7.20it/s]\n"
     ]
    },
    {
     "name": "stdout",
     "output_type": "stream",
     "text": [
      "/clusterfs/nilah/richard/basenji2/data_pretrained_basenji2/human/tfrecords/train-0-66.tfr\n"
     ]
    },
    {
     "name": "stderr",
     "output_type": "stream",
     "text": [
      "256it [00:34,  7.41it/s]\n"
     ]
    },
    {
     "name": "stdout",
     "output_type": "stream",
     "text": [
      "/clusterfs/nilah/richard/basenji2/data_pretrained_basenji2/human/tfrecords/train-0-67.tfr\n"
     ]
    },
    {
     "name": "stderr",
     "output_type": "stream",
     "text": [
      "256it [00:34,  7.48it/s]\n"
     ]
    },
    {
     "name": "stdout",
     "output_type": "stream",
     "text": [
      "/clusterfs/nilah/richard/basenji2/data_pretrained_basenji2/human/tfrecords/train-0-68.tfr\n"
     ]
    },
    {
     "name": "stderr",
     "output_type": "stream",
     "text": [
      "256it [00:33,  7.63it/s]\n"
     ]
    },
    {
     "name": "stdout",
     "output_type": "stream",
     "text": [
      "/clusterfs/nilah/richard/basenji2/data_pretrained_basenji2/human/tfrecords/train-0-69.tfr\n"
     ]
    },
    {
     "name": "stderr",
     "output_type": "stream",
     "text": [
      "256it [00:36,  7.07it/s]\n"
     ]
    },
    {
     "name": "stdout",
     "output_type": "stream",
     "text": [
      "/clusterfs/nilah/richard/basenji2/data_pretrained_basenji2/human/tfrecords/train-0-70.tfr\n"
     ]
    },
    {
     "name": "stderr",
     "output_type": "stream",
     "text": [
      "256it [00:34,  7.38it/s]\n"
     ]
    },
    {
     "name": "stdout",
     "output_type": "stream",
     "text": [
      "/clusterfs/nilah/richard/basenji2/data_pretrained_basenji2/human/tfrecords/train-0-71.tfr\n"
     ]
    },
    {
     "name": "stderr",
     "output_type": "stream",
     "text": [
      "256it [00:33,  7.66it/s]\n"
     ]
    },
    {
     "name": "stdout",
     "output_type": "stream",
     "text": [
      "/clusterfs/nilah/richard/basenji2/data_pretrained_basenji2/human/tfrecords/train-0-72.tfr\n"
     ]
    },
    {
     "name": "stderr",
     "output_type": "stream",
     "text": [
      "256it [00:33,  7.65it/s]\n"
     ]
    },
    {
     "name": "stdout",
     "output_type": "stream",
     "text": [
      "/clusterfs/nilah/richard/basenji2/data_pretrained_basenji2/human/tfrecords/train-0-73.tfr\n"
     ]
    },
    {
     "name": "stderr",
     "output_type": "stream",
     "text": [
      "256it [00:33,  7.71it/s]\n"
     ]
    },
    {
     "name": "stdout",
     "output_type": "stream",
     "text": [
      "/clusterfs/nilah/richard/basenji2/data_pretrained_basenji2/human/tfrecords/train-0-74.tfr\n"
     ]
    },
    {
     "name": "stderr",
     "output_type": "stream",
     "text": [
      "256it [00:34,  7.42it/s]\n"
     ]
    },
    {
     "name": "stdout",
     "output_type": "stream",
     "text": [
      "/clusterfs/nilah/richard/basenji2/data_pretrained_basenji2/human/tfrecords/train-0-75.tfr\n"
     ]
    },
    {
     "name": "stderr",
     "output_type": "stream",
     "text": [
      "256it [00:34,  7.46it/s]\n"
     ]
    },
    {
     "name": "stdout",
     "output_type": "stream",
     "text": [
      "/clusterfs/nilah/richard/basenji2/data_pretrained_basenji2/human/tfrecords/train-0-76.tfr\n"
     ]
    },
    {
     "name": "stderr",
     "output_type": "stream",
     "text": [
      "256it [00:33,  7.54it/s]\n"
     ]
    },
    {
     "name": "stdout",
     "output_type": "stream",
     "text": [
      "/clusterfs/nilah/richard/basenji2/data_pretrained_basenji2/human/tfrecords/train-0-77.tfr\n"
     ]
    },
    {
     "name": "stderr",
     "output_type": "stream",
     "text": [
      "256it [00:33,  7.56it/s]\n"
     ]
    },
    {
     "name": "stdout",
     "output_type": "stream",
     "text": [
      "/clusterfs/nilah/richard/basenji2/data_pretrained_basenji2/human/tfrecords/train-0-78.tfr\n"
     ]
    },
    {
     "name": "stderr",
     "output_type": "stream",
     "text": [
      "256it [00:33,  7.61it/s]\n"
     ]
    },
    {
     "name": "stdout",
     "output_type": "stream",
     "text": [
      "/clusterfs/nilah/richard/basenji2/data_pretrained_basenji2/human/tfrecords/train-0-79.tfr\n"
     ]
    },
    {
     "name": "stderr",
     "output_type": "stream",
     "text": [
      "256it [00:33,  7.61it/s]\n"
     ]
    },
    {
     "name": "stdout",
     "output_type": "stream",
     "text": [
      "/clusterfs/nilah/richard/basenji2/data_pretrained_basenji2/human/tfrecords/train-0-80.tfr\n"
     ]
    },
    {
     "name": "stderr",
     "output_type": "stream",
     "text": [
      "256it [00:33,  7.60it/s]\n"
     ]
    },
    {
     "name": "stdout",
     "output_type": "stream",
     "text": [
      "/clusterfs/nilah/richard/basenji2/data_pretrained_basenji2/human/tfrecords/train-0-81.tfr\n"
     ]
    },
    {
     "name": "stderr",
     "output_type": "stream",
     "text": [
      "256it [00:33,  7.56it/s]\n"
     ]
    },
    {
     "name": "stdout",
     "output_type": "stream",
     "text": [
      "/clusterfs/nilah/richard/basenji2/data_pretrained_basenji2/human/tfrecords/train-0-82.tfr\n"
     ]
    },
    {
     "name": "stderr",
     "output_type": "stream",
     "text": [
      "256it [00:33,  7.54it/s]\n"
     ]
    },
    {
     "name": "stdout",
     "output_type": "stream",
     "text": [
      "/clusterfs/nilah/richard/basenji2/data_pretrained_basenji2/human/tfrecords/train-0-83.tfr\n"
     ]
    },
    {
     "name": "stderr",
     "output_type": "stream",
     "text": [
      "256it [00:34,  7.52it/s]\n"
     ]
    },
    {
     "name": "stdout",
     "output_type": "stream",
     "text": [
      "/clusterfs/nilah/richard/basenji2/data_pretrained_basenji2/human/tfrecords/train-0-84.tfr\n"
     ]
    },
    {
     "name": "stderr",
     "output_type": "stream",
     "text": [
      "256it [00:34,  7.50it/s]\n"
     ]
    },
    {
     "name": "stdout",
     "output_type": "stream",
     "text": [
      "/clusterfs/nilah/richard/basenji2/data_pretrained_basenji2/human/tfrecords/train-0-85.tfr\n"
     ]
    },
    {
     "name": "stderr",
     "output_type": "stream",
     "text": [
      "256it [00:34,  7.42it/s]\n"
     ]
    },
    {
     "name": "stdout",
     "output_type": "stream",
     "text": [
      "/clusterfs/nilah/richard/basenji2/data_pretrained_basenji2/human/tfrecords/train-0-86.tfr\n"
     ]
    },
    {
     "name": "stderr",
     "output_type": "stream",
     "text": [
      "256it [00:33,  7.58it/s]\n"
     ]
    },
    {
     "name": "stdout",
     "output_type": "stream",
     "text": [
      "/clusterfs/nilah/richard/basenji2/data_pretrained_basenji2/human/tfrecords/train-0-87.tfr\n"
     ]
    },
    {
     "name": "stderr",
     "output_type": "stream",
     "text": [
      "256it [00:34,  7.52it/s]\n"
     ]
    },
    {
     "name": "stdout",
     "output_type": "stream",
     "text": [
      "/clusterfs/nilah/richard/basenji2/data_pretrained_basenji2/human/tfrecords/train-0-88.tfr\n"
     ]
    },
    {
     "name": "stderr",
     "output_type": "stream",
     "text": [
      "256it [00:34,  7.49it/s]\n"
     ]
    },
    {
     "name": "stdout",
     "output_type": "stream",
     "text": [
      "/clusterfs/nilah/richard/basenji2/data_pretrained_basenji2/human/tfrecords/train-0-89.tfr\n"
     ]
    },
    {
     "name": "stderr",
     "output_type": "stream",
     "text": [
      "256it [00:33,  7.58it/s]\n"
     ]
    },
    {
     "name": "stdout",
     "output_type": "stream",
     "text": [
      "/clusterfs/nilah/richard/basenji2/data_pretrained_basenji2/human/tfrecords/train-0-90.tfr\n"
     ]
    },
    {
     "name": "stderr",
     "output_type": "stream",
     "text": [
      "256it [00:33,  7.67it/s]\n"
     ]
    },
    {
     "name": "stdout",
     "output_type": "stream",
     "text": [
      "/clusterfs/nilah/richard/basenji2/data_pretrained_basenji2/human/tfrecords/train-0-91.tfr\n"
     ]
    },
    {
     "name": "stderr",
     "output_type": "stream",
     "text": [
      "256it [00:34,  7.48it/s]\n"
     ]
    },
    {
     "name": "stdout",
     "output_type": "stream",
     "text": [
      "/clusterfs/nilah/richard/basenji2/data_pretrained_basenji2/human/tfrecords/train-0-92.tfr\n"
     ]
    },
    {
     "name": "stderr",
     "output_type": "stream",
     "text": [
      "256it [00:33,  7.69it/s]\n"
     ]
    },
    {
     "name": "stdout",
     "output_type": "stream",
     "text": [
      "/clusterfs/nilah/richard/basenji2/data_pretrained_basenji2/human/tfrecords/train-0-93.tfr\n"
     ]
    },
    {
     "name": "stderr",
     "output_type": "stream",
     "text": [
      "256it [00:34,  7.39it/s]\n"
     ]
    },
    {
     "name": "stdout",
     "output_type": "stream",
     "text": [
      "/clusterfs/nilah/richard/basenji2/data_pretrained_basenji2/human/tfrecords/train-0-94.tfr\n"
     ]
    },
    {
     "name": "stderr",
     "output_type": "stream",
     "text": [
      "256it [00:33,  7.71it/s]\n"
     ]
    },
    {
     "name": "stdout",
     "output_type": "stream",
     "text": [
      "/clusterfs/nilah/richard/basenji2/data_pretrained_basenji2/human/tfrecords/train-0-95.tfr\n"
     ]
    },
    {
     "name": "stderr",
     "output_type": "stream",
     "text": [
      "256it [00:33,  7.60it/s]\n"
     ]
    },
    {
     "name": "stdout",
     "output_type": "stream",
     "text": [
      "/clusterfs/nilah/richard/basenji2/data_pretrained_basenji2/human/tfrecords/train-0-96.tfr\n"
     ]
    },
    {
     "name": "stderr",
     "output_type": "stream",
     "text": [
      "256it [00:34,  7.49it/s]\n"
     ]
    },
    {
     "name": "stdout",
     "output_type": "stream",
     "text": [
      "/clusterfs/nilah/richard/basenji2/data_pretrained_basenji2/human/tfrecords/train-0-97.tfr\n"
     ]
    },
    {
     "name": "stderr",
     "output_type": "stream",
     "text": [
      "256it [00:34,  7.50it/s]\n"
     ]
    },
    {
     "name": "stdout",
     "output_type": "stream",
     "text": [
      "/clusterfs/nilah/richard/basenji2/data_pretrained_basenji2/human/tfrecords/train-0-98.tfr\n"
     ]
    },
    {
     "name": "stderr",
     "output_type": "stream",
     "text": [
      "256it [00:33,  7.58it/s]\n"
     ]
    },
    {
     "name": "stdout",
     "output_type": "stream",
     "text": [
      "/clusterfs/nilah/richard/basenji2/data_pretrained_basenji2/human/tfrecords/train-0-99.tfr\n"
     ]
    },
    {
     "name": "stderr",
     "output_type": "stream",
     "text": [
      "256it [00:33,  7.58it/s]\n"
     ]
    },
    {
     "name": "stdout",
     "output_type": "stream",
     "text": [
      "/clusterfs/nilah/richard/basenji2/data_pretrained_basenji2/human/tfrecords/train-0-100.tfr\n"
     ]
    },
    {
     "name": "stderr",
     "output_type": "stream",
     "text": [
      "256it [00:33,  7.64it/s]\n"
     ]
    },
    {
     "name": "stdout",
     "output_type": "stream",
     "text": [
      "/clusterfs/nilah/richard/basenji2/data_pretrained_basenji2/human/tfrecords/train-0-101.tfr\n"
     ]
    },
    {
     "name": "stderr",
     "output_type": "stream",
     "text": [
      "256it [00:33,  7.53it/s]\n"
     ]
    },
    {
     "name": "stdout",
     "output_type": "stream",
     "text": [
      "/clusterfs/nilah/richard/basenji2/data_pretrained_basenji2/human/tfrecords/train-0-102.tfr\n"
     ]
    },
    {
     "name": "stderr",
     "output_type": "stream",
     "text": [
      "256it [00:33,  7.60it/s]\n"
     ]
    },
    {
     "name": "stdout",
     "output_type": "stream",
     "text": [
      "/clusterfs/nilah/richard/basenji2/data_pretrained_basenji2/human/tfrecords/train-0-103.tfr\n"
     ]
    },
    {
     "name": "stderr",
     "output_type": "stream",
     "text": [
      "256it [00:33,  7.57it/s]\n"
     ]
    },
    {
     "name": "stdout",
     "output_type": "stream",
     "text": [
      "/clusterfs/nilah/richard/basenji2/data_pretrained_basenji2/human/tfrecords/train-0-104.tfr\n"
     ]
    },
    {
     "name": "stderr",
     "output_type": "stream",
     "text": [
      "256it [00:33,  7.55it/s]\n"
     ]
    },
    {
     "name": "stdout",
     "output_type": "stream",
     "text": [
      "/clusterfs/nilah/richard/basenji2/data_pretrained_basenji2/human/tfrecords/train-0-105.tfr\n"
     ]
    },
    {
     "name": "stderr",
     "output_type": "stream",
     "text": [
      "256it [00:35,  7.30it/s]\n"
     ]
    },
    {
     "name": "stdout",
     "output_type": "stream",
     "text": [
      "/clusterfs/nilah/richard/basenji2/data_pretrained_basenji2/human/tfrecords/train-0-106.tfr\n"
     ]
    },
    {
     "name": "stderr",
     "output_type": "stream",
     "text": [
      "256it [00:34,  7.40it/s]\n"
     ]
    },
    {
     "name": "stdout",
     "output_type": "stream",
     "text": [
      "/clusterfs/nilah/richard/basenji2/data_pretrained_basenji2/human/tfrecords/train-0-107.tfr\n"
     ]
    },
    {
     "name": "stderr",
     "output_type": "stream",
     "text": [
      "256it [00:34,  7.48it/s]\n"
     ]
    },
    {
     "name": "stdout",
     "output_type": "stream",
     "text": [
      "/clusterfs/nilah/richard/basenji2/data_pretrained_basenji2/human/tfrecords/train-0-108.tfr\n"
     ]
    },
    {
     "name": "stderr",
     "output_type": "stream",
     "text": [
      "256it [00:34,  7.49it/s]\n"
     ]
    },
    {
     "name": "stdout",
     "output_type": "stream",
     "text": [
      "/clusterfs/nilah/richard/basenji2/data_pretrained_basenji2/human/tfrecords/train-0-109.tfr\n"
     ]
    },
    {
     "name": "stderr",
     "output_type": "stream",
     "text": [
      "256it [00:33,  7.53it/s]\n"
     ]
    },
    {
     "name": "stdout",
     "output_type": "stream",
     "text": [
      "/clusterfs/nilah/richard/basenji2/data_pretrained_basenji2/human/tfrecords/train-0-110.tfr\n"
     ]
    },
    {
     "name": "stderr",
     "output_type": "stream",
     "text": [
      "256it [00:34,  7.46it/s]\n"
     ]
    },
    {
     "name": "stdout",
     "output_type": "stream",
     "text": [
      "/clusterfs/nilah/richard/basenji2/data_pretrained_basenji2/human/tfrecords/train-0-111.tfr\n"
     ]
    },
    {
     "name": "stderr",
     "output_type": "stream",
     "text": [
      "256it [00:33,  7.62it/s]\n"
     ]
    },
    {
     "name": "stdout",
     "output_type": "stream",
     "text": [
      "/clusterfs/nilah/richard/basenji2/data_pretrained_basenji2/human/tfrecords/train-0-112.tfr\n"
     ]
    },
    {
     "name": "stderr",
     "output_type": "stream",
     "text": [
      "256it [00:34,  7.43it/s]\n"
     ]
    },
    {
     "name": "stdout",
     "output_type": "stream",
     "text": [
      "/clusterfs/nilah/richard/basenji2/data_pretrained_basenji2/human/tfrecords/train-0-113.tfr\n"
     ]
    },
    {
     "name": "stderr",
     "output_type": "stream",
     "text": [
      "256it [00:34,  7.47it/s]\n"
     ]
    },
    {
     "name": "stdout",
     "output_type": "stream",
     "text": [
      "/clusterfs/nilah/richard/basenji2/data_pretrained_basenji2/human/tfrecords/train-0-114.tfr\n"
     ]
    },
    {
     "name": "stderr",
     "output_type": "stream",
     "text": [
      "256it [00:33,  7.54it/s]\n"
     ]
    },
    {
     "name": "stdout",
     "output_type": "stream",
     "text": [
      "/clusterfs/nilah/richard/basenji2/data_pretrained_basenji2/human/tfrecords/train-0-115.tfr\n"
     ]
    },
    {
     "name": "stderr",
     "output_type": "stream",
     "text": [
      "256it [00:34,  7.49it/s]\n"
     ]
    },
    {
     "name": "stdout",
     "output_type": "stream",
     "text": [
      "/clusterfs/nilah/richard/basenji2/data_pretrained_basenji2/human/tfrecords/train-0-116.tfr\n"
     ]
    },
    {
     "name": "stderr",
     "output_type": "stream",
     "text": [
      "256it [00:33,  7.56it/s]\n"
     ]
    },
    {
     "name": "stdout",
     "output_type": "stream",
     "text": [
      "/clusterfs/nilah/richard/basenji2/data_pretrained_basenji2/human/tfrecords/train-0-117.tfr\n"
     ]
    },
    {
     "name": "stderr",
     "output_type": "stream",
     "text": [
      "256it [00:33,  7.54it/s]\n"
     ]
    },
    {
     "name": "stdout",
     "output_type": "stream",
     "text": [
      "/clusterfs/nilah/richard/basenji2/data_pretrained_basenji2/human/tfrecords/train-0-118.tfr\n"
     ]
    },
    {
     "name": "stderr",
     "output_type": "stream",
     "text": [
      "256it [00:33,  7.55it/s]\n"
     ]
    },
    {
     "name": "stdout",
     "output_type": "stream",
     "text": [
      "/clusterfs/nilah/richard/basenji2/data_pretrained_basenji2/human/tfrecords/train-0-119.tfr\n"
     ]
    },
    {
     "name": "stderr",
     "output_type": "stream",
     "text": [
      "256it [00:33,  7.69it/s]\n"
     ]
    },
    {
     "name": "stdout",
     "output_type": "stream",
     "text": [
      "/clusterfs/nilah/richard/basenji2/data_pretrained_basenji2/human/tfrecords/train-0-120.tfr\n"
     ]
    },
    {
     "name": "stderr",
     "output_type": "stream",
     "text": [
      "256it [00:33,  7.65it/s]\n"
     ]
    },
    {
     "name": "stdout",
     "output_type": "stream",
     "text": [
      "/clusterfs/nilah/richard/basenji2/data_pretrained_basenji2/human/tfrecords/train-0-121.tfr\n"
     ]
    },
    {
     "name": "stderr",
     "output_type": "stream",
     "text": [
      "256it [00:34,  7.51it/s]\n"
     ]
    },
    {
     "name": "stdout",
     "output_type": "stream",
     "text": [
      "/clusterfs/nilah/richard/basenji2/data_pretrained_basenji2/human/tfrecords/train-0-122.tfr\n"
     ]
    },
    {
     "name": "stderr",
     "output_type": "stream",
     "text": [
      "256it [00:34,  7.40it/s]\n"
     ]
    },
    {
     "name": "stdout",
     "output_type": "stream",
     "text": [
      "/clusterfs/nilah/richard/basenji2/data_pretrained_basenji2/human/tfrecords/train-0-123.tfr\n"
     ]
    },
    {
     "name": "stderr",
     "output_type": "stream",
     "text": [
      "256it [00:34,  7.43it/s]\n"
     ]
    },
    {
     "name": "stdout",
     "output_type": "stream",
     "text": [
      "/clusterfs/nilah/richard/basenji2/data_pretrained_basenji2/human/tfrecords/train-0-124.tfr\n"
     ]
    },
    {
     "name": "stderr",
     "output_type": "stream",
     "text": [
      "256it [00:33,  7.71it/s]\n"
     ]
    },
    {
     "name": "stdout",
     "output_type": "stream",
     "text": [
      "/clusterfs/nilah/richard/basenji2/data_pretrained_basenji2/human/tfrecords/train-0-125.tfr\n"
     ]
    },
    {
     "name": "stderr",
     "output_type": "stream",
     "text": [
      "256it [00:33,  7.55it/s]\n"
     ]
    },
    {
     "name": "stdout",
     "output_type": "stream",
     "text": [
      "/clusterfs/nilah/richard/basenji2/data_pretrained_basenji2/human/tfrecords/train-0-126.tfr\n"
     ]
    },
    {
     "name": "stderr",
     "output_type": "stream",
     "text": [
      "256it [00:34,  7.49it/s]\n"
     ]
    },
    {
     "name": "stdout",
     "output_type": "stream",
     "text": [
      "/clusterfs/nilah/richard/basenji2/data_pretrained_basenji2/human/tfrecords/train-0-127.tfr\n"
     ]
    },
    {
     "name": "stderr",
     "output_type": "stream",
     "text": [
      "256it [00:34,  7.36it/s]\n"
     ]
    },
    {
     "name": "stdout",
     "output_type": "stream",
     "text": [
      "/clusterfs/nilah/richard/basenji2/data_pretrained_basenji2/human/tfrecords/train-0-128.tfr\n"
     ]
    },
    {
     "name": "stderr",
     "output_type": "stream",
     "text": [
      "256it [00:34,  7.40it/s]\n"
     ]
    },
    {
     "name": "stdout",
     "output_type": "stream",
     "text": [
      "/clusterfs/nilah/richard/basenji2/data_pretrained_basenji2/human/tfrecords/train-0-129.tfr\n"
     ]
    },
    {
     "name": "stderr",
     "output_type": "stream",
     "text": [
      "256it [00:34,  7.37it/s]\n"
     ]
    },
    {
     "name": "stdout",
     "output_type": "stream",
     "text": [
      "/clusterfs/nilah/richard/basenji2/data_pretrained_basenji2/human/tfrecords/train-0-130.tfr\n"
     ]
    },
    {
     "name": "stderr",
     "output_type": "stream",
     "text": [
      "256it [00:33,  7.61it/s]\n"
     ]
    },
    {
     "name": "stdout",
     "output_type": "stream",
     "text": [
      "/clusterfs/nilah/richard/basenji2/data_pretrained_basenji2/human/tfrecords/train-0-131.tfr\n"
     ]
    },
    {
     "name": "stderr",
     "output_type": "stream",
     "text": [
      "256it [00:35,  7.31it/s]\n"
     ]
    },
    {
     "name": "stdout",
     "output_type": "stream",
     "text": [
      "/clusterfs/nilah/richard/basenji2/data_pretrained_basenji2/human/tfrecords/train-0-132.tfr\n"
     ]
    },
    {
     "name": "stderr",
     "output_type": "stream",
     "text": [
      "229it [00:30,  7.43it/s]\n"
     ]
    },
    {
     "name": "stdout",
     "output_type": "stream",
     "text": [
      "test\n",
      "/clusterfs/nilah/richard/basenji2/data_pretrained_basenji2/human/tfrecords/test-0-0.tfr\n"
     ]
    },
    {
     "name": "stderr",
     "output_type": "stream",
     "text": [
      "256it [00:43,  5.83it/s]\n"
     ]
    },
    {
     "name": "stdout",
     "output_type": "stream",
     "text": [
      "/clusterfs/nilah/richard/basenji2/data_pretrained_basenji2/human/tfrecords/test-0-1.tfr\n"
     ]
    },
    {
     "name": "stderr",
     "output_type": "stream",
     "text": [
      "256it [00:36,  7.04it/s]\n"
     ]
    },
    {
     "name": "stdout",
     "output_type": "stream",
     "text": [
      "/clusterfs/nilah/richard/basenji2/data_pretrained_basenji2/human/tfrecords/test-0-2.tfr\n"
     ]
    },
    {
     "name": "stderr",
     "output_type": "stream",
     "text": [
      "256it [00:34,  7.34it/s]\n"
     ]
    },
    {
     "name": "stdout",
     "output_type": "stream",
     "text": [
      "/clusterfs/nilah/richard/basenji2/data_pretrained_basenji2/human/tfrecords/test-0-3.tfr\n"
     ]
    },
    {
     "name": "stderr",
     "output_type": "stream",
     "text": [
      "256it [00:37,  6.83it/s]\n"
     ]
    },
    {
     "name": "stdout",
     "output_type": "stream",
     "text": [
      "/clusterfs/nilah/richard/basenji2/data_pretrained_basenji2/human/tfrecords/test-0-4.tfr\n"
     ]
    },
    {
     "name": "stderr",
     "output_type": "stream",
     "text": [
      "256it [00:36,  6.99it/s]\n"
     ]
    },
    {
     "name": "stdout",
     "output_type": "stream",
     "text": [
      "/clusterfs/nilah/richard/basenji2/data_pretrained_basenji2/human/tfrecords/test-0-5.tfr\n"
     ]
    },
    {
     "name": "stderr",
     "output_type": "stream",
     "text": [
      "256it [00:35,  7.16it/s]\n"
     ]
    },
    {
     "name": "stdout",
     "output_type": "stream",
     "text": [
      "/clusterfs/nilah/richard/basenji2/data_pretrained_basenji2/human/tfrecords/test-0-6.tfr\n"
     ]
    },
    {
     "name": "stderr",
     "output_type": "stream",
     "text": [
      "256it [00:34,  7.35it/s]\n"
     ]
    },
    {
     "name": "stdout",
     "output_type": "stream",
     "text": [
      "/clusterfs/nilah/richard/basenji2/data_pretrained_basenji2/human/tfrecords/test-0-7.tfr\n"
     ]
    },
    {
     "name": "stderr",
     "output_type": "stream",
     "text": [
      "145it [00:20,  7.24it/s]\n"
     ]
    },
    {
     "name": "stdout",
     "output_type": "stream",
     "text": [
      "valid\n",
      "/clusterfs/nilah/richard/basenji2/data_pretrained_basenji2/human/tfrecords/valid-0-0.tfr\n"
     ]
    },
    {
     "name": "stderr",
     "output_type": "stream",
     "text": [
      "256it [00:49,  5.15it/s]\n"
     ]
    },
    {
     "name": "stdout",
     "output_type": "stream",
     "text": [
      "/clusterfs/nilah/richard/basenji2/data_pretrained_basenji2/human/tfrecords/valid-0-1.tfr\n"
     ]
    },
    {
     "name": "stderr",
     "output_type": "stream",
     "text": [
      "256it [00:37,  6.88it/s]\n"
     ]
    },
    {
     "name": "stdout",
     "output_type": "stream",
     "text": [
      "/clusterfs/nilah/richard/basenji2/data_pretrained_basenji2/human/tfrecords/valid-0-2.tfr\n"
     ]
    },
    {
     "name": "stderr",
     "output_type": "stream",
     "text": [
      "256it [00:34,  7.33it/s]\n"
     ]
    },
    {
     "name": "stdout",
     "output_type": "stream",
     "text": [
      "/clusterfs/nilah/richard/basenji2/data_pretrained_basenji2/human/tfrecords/valid-0-3.tfr\n"
     ]
    },
    {
     "name": "stderr",
     "output_type": "stream",
     "text": [
      "256it [00:35,  7.26it/s]\n"
     ]
    },
    {
     "name": "stdout",
     "output_type": "stream",
     "text": [
      "/clusterfs/nilah/richard/basenji2/data_pretrained_basenji2/human/tfrecords/valid-0-4.tfr\n"
     ]
    },
    {
     "name": "stderr",
     "output_type": "stream",
     "text": [
      "256it [00:35,  7.30it/s]\n"
     ]
    },
    {
     "name": "stdout",
     "output_type": "stream",
     "text": [
      "/clusterfs/nilah/richard/basenji2/data_pretrained_basenji2/human/tfrecords/valid-0-5.tfr\n"
     ]
    },
    {
     "name": "stderr",
     "output_type": "stream",
     "text": [
      "256it [00:35,  7.30it/s]\n"
     ]
    },
    {
     "name": "stdout",
     "output_type": "stream",
     "text": [
      "/clusterfs/nilah/richard/basenji2/data_pretrained_basenji2/human/tfrecords/valid-0-6.tfr\n"
     ]
    },
    {
     "name": "stderr",
     "output_type": "stream",
     "text": [
      "256it [00:34,  7.40it/s]\n"
     ]
    },
    {
     "name": "stdout",
     "output_type": "stream",
     "text": [
      "/clusterfs/nilah/richard/basenji2/data_pretrained_basenji2/human/tfrecords/valid-0-7.tfr\n"
     ]
    },
    {
     "name": "stderr",
     "output_type": "stream",
     "text": [
      "256it [00:34,  7.50it/s]\n"
     ]
    },
    {
     "name": "stdout",
     "output_type": "stream",
     "text": [
      "/clusterfs/nilah/richard/basenji2/data_pretrained_basenji2/human/tfrecords/valid-0-8.tfr\n"
     ]
    },
    {
     "name": "stderr",
     "output_type": "stream",
     "text": [
      "165it [00:22,  7.39it/s]\n"
     ]
    },
    {
     "name": "stdout",
     "output_type": "stream",
     "text": [
      "mouse\n",
      "train\n",
      "/clusterfs/nilah/richard/basenji2/data_pretrained_basenji2/mouse/tfrecords/train-1-0.tfr\n"
     ]
    },
    {
     "name": "stderr",
     "output_type": "stream",
     "text": [
      "256it [00:28,  8.88it/s]\n"
     ]
    },
    {
     "name": "stdout",
     "output_type": "stream",
     "text": [
      "/clusterfs/nilah/richard/basenji2/data_pretrained_basenji2/mouse/tfrecords/train-1-1.tfr\n"
     ]
    },
    {
     "name": "stderr",
     "output_type": "stream",
     "text": [
      "256it [00:25,  9.91it/s]\n"
     ]
    },
    {
     "name": "stdout",
     "output_type": "stream",
     "text": [
      "/clusterfs/nilah/richard/basenji2/data_pretrained_basenji2/mouse/tfrecords/train-1-2.tfr\n"
     ]
    },
    {
     "name": "stderr",
     "output_type": "stream",
     "text": [
      "256it [00:25, 10.19it/s]\n"
     ]
    },
    {
     "name": "stdout",
     "output_type": "stream",
     "text": [
      "/clusterfs/nilah/richard/basenji2/data_pretrained_basenji2/mouse/tfrecords/train-1-3.tfr\n"
     ]
    },
    {
     "name": "stderr",
     "output_type": "stream",
     "text": [
      "256it [00:24, 10.45it/s]\n"
     ]
    },
    {
     "name": "stdout",
     "output_type": "stream",
     "text": [
      "/clusterfs/nilah/richard/basenji2/data_pretrained_basenji2/mouse/tfrecords/train-1-4.tfr\n"
     ]
    },
    {
     "name": "stderr",
     "output_type": "stream",
     "text": [
      "256it [00:24, 10.59it/s]\n"
     ]
    },
    {
     "name": "stdout",
     "output_type": "stream",
     "text": [
      "/clusterfs/nilah/richard/basenji2/data_pretrained_basenji2/mouse/tfrecords/train-1-5.tfr\n"
     ]
    },
    {
     "name": "stderr",
     "output_type": "stream",
     "text": [
      "256it [00:24, 10.51it/s]\n"
     ]
    },
    {
     "name": "stdout",
     "output_type": "stream",
     "text": [
      "/clusterfs/nilah/richard/basenji2/data_pretrained_basenji2/mouse/tfrecords/train-1-6.tfr\n"
     ]
    },
    {
     "name": "stderr",
     "output_type": "stream",
     "text": [
      "256it [00:23, 10.69it/s]\n"
     ]
    },
    {
     "name": "stdout",
     "output_type": "stream",
     "text": [
      "/clusterfs/nilah/richard/basenji2/data_pretrained_basenji2/mouse/tfrecords/train-1-7.tfr\n"
     ]
    },
    {
     "name": "stderr",
     "output_type": "stream",
     "text": [
      "256it [00:23, 10.70it/s]\n"
     ]
    },
    {
     "name": "stdout",
     "output_type": "stream",
     "text": [
      "/clusterfs/nilah/richard/basenji2/data_pretrained_basenji2/mouse/tfrecords/train-1-8.tfr\n"
     ]
    },
    {
     "name": "stderr",
     "output_type": "stream",
     "text": [
      "256it [00:23, 10.74it/s]\n"
     ]
    },
    {
     "name": "stdout",
     "output_type": "stream",
     "text": [
      "/clusterfs/nilah/richard/basenji2/data_pretrained_basenji2/mouse/tfrecords/train-1-9.tfr\n"
     ]
    },
    {
     "name": "stderr",
     "output_type": "stream",
     "text": [
      "256it [00:24, 10.64it/s]\n"
     ]
    },
    {
     "name": "stdout",
     "output_type": "stream",
     "text": [
      "/clusterfs/nilah/richard/basenji2/data_pretrained_basenji2/mouse/tfrecords/train-1-10.tfr\n"
     ]
    },
    {
     "name": "stderr",
     "output_type": "stream",
     "text": [
      "256it [00:24, 10.66it/s]\n"
     ]
    },
    {
     "name": "stdout",
     "output_type": "stream",
     "text": [
      "/clusterfs/nilah/richard/basenji2/data_pretrained_basenji2/mouse/tfrecords/train-1-11.tfr\n"
     ]
    },
    {
     "name": "stderr",
     "output_type": "stream",
     "text": [
      "256it [00:24, 10.44it/s]\n"
     ]
    },
    {
     "name": "stdout",
     "output_type": "stream",
     "text": [
      "/clusterfs/nilah/richard/basenji2/data_pretrained_basenji2/mouse/tfrecords/train-1-12.tfr\n"
     ]
    },
    {
     "name": "stderr",
     "output_type": "stream",
     "text": [
      "256it [00:25, 10.24it/s]\n"
     ]
    },
    {
     "name": "stdout",
     "output_type": "stream",
     "text": [
      "/clusterfs/nilah/richard/basenji2/data_pretrained_basenji2/mouse/tfrecords/train-1-13.tfr\n"
     ]
    },
    {
     "name": "stderr",
     "output_type": "stream",
     "text": [
      "256it [00:23, 11.05it/s]\n"
     ]
    },
    {
     "name": "stdout",
     "output_type": "stream",
     "text": [
      "/clusterfs/nilah/richard/basenji2/data_pretrained_basenji2/mouse/tfrecords/train-1-14.tfr\n"
     ]
    },
    {
     "name": "stderr",
     "output_type": "stream",
     "text": [
      "256it [00:23, 11.12it/s]\n"
     ]
    },
    {
     "name": "stdout",
     "output_type": "stream",
     "text": [
      "/clusterfs/nilah/richard/basenji2/data_pretrained_basenji2/mouse/tfrecords/train-1-15.tfr\n"
     ]
    },
    {
     "name": "stderr",
     "output_type": "stream",
     "text": [
      "256it [00:23, 10.75it/s]\n"
     ]
    },
    {
     "name": "stdout",
     "output_type": "stream",
     "text": [
      "/clusterfs/nilah/richard/basenji2/data_pretrained_basenji2/mouse/tfrecords/train-1-16.tfr\n"
     ]
    },
    {
     "name": "stderr",
     "output_type": "stream",
     "text": [
      "256it [00:23, 10.92it/s]\n"
     ]
    },
    {
     "name": "stdout",
     "output_type": "stream",
     "text": [
      "/clusterfs/nilah/richard/basenji2/data_pretrained_basenji2/mouse/tfrecords/train-1-17.tfr\n"
     ]
    },
    {
     "name": "stderr",
     "output_type": "stream",
     "text": [
      "256it [00:23, 10.83it/s]\n"
     ]
    },
    {
     "name": "stdout",
     "output_type": "stream",
     "text": [
      "/clusterfs/nilah/richard/basenji2/data_pretrained_basenji2/mouse/tfrecords/train-1-18.tfr\n"
     ]
    },
    {
     "name": "stderr",
     "output_type": "stream",
     "text": [
      "256it [00:23, 11.01it/s]\n"
     ]
    },
    {
     "name": "stdout",
     "output_type": "stream",
     "text": [
      "/clusterfs/nilah/richard/basenji2/data_pretrained_basenji2/mouse/tfrecords/train-1-19.tfr\n"
     ]
    },
    {
     "name": "stderr",
     "output_type": "stream",
     "text": [
      "256it [00:24, 10.28it/s]\n"
     ]
    },
    {
     "name": "stdout",
     "output_type": "stream",
     "text": [
      "/clusterfs/nilah/richard/basenji2/data_pretrained_basenji2/mouse/tfrecords/train-1-20.tfr\n"
     ]
    },
    {
     "name": "stderr",
     "output_type": "stream",
     "text": [
      "256it [00:22, 11.30it/s]\n"
     ]
    },
    {
     "name": "stdout",
     "output_type": "stream",
     "text": [
      "/clusterfs/nilah/richard/basenji2/data_pretrained_basenji2/mouse/tfrecords/train-1-21.tfr\n"
     ]
    },
    {
     "name": "stderr",
     "output_type": "stream",
     "text": [
      "256it [00:24, 10.62it/s]\n"
     ]
    },
    {
     "name": "stdout",
     "output_type": "stream",
     "text": [
      "/clusterfs/nilah/richard/basenji2/data_pretrained_basenji2/mouse/tfrecords/train-1-22.tfr\n"
     ]
    },
    {
     "name": "stderr",
     "output_type": "stream",
     "text": [
      "256it [00:25,  9.94it/s]\n"
     ]
    },
    {
     "name": "stdout",
     "output_type": "stream",
     "text": [
      "/clusterfs/nilah/richard/basenji2/data_pretrained_basenji2/mouse/tfrecords/train-1-23.tfr\n"
     ]
    },
    {
     "name": "stderr",
     "output_type": "stream",
     "text": [
      "256it [00:24, 10.37it/s]\n"
     ]
    },
    {
     "name": "stdout",
     "output_type": "stream",
     "text": [
      "/clusterfs/nilah/richard/basenji2/data_pretrained_basenji2/mouse/tfrecords/train-1-24.tfr\n"
     ]
    },
    {
     "name": "stderr",
     "output_type": "stream",
     "text": [
      "256it [00:23, 10.84it/s]\n"
     ]
    },
    {
     "name": "stdout",
     "output_type": "stream",
     "text": [
      "/clusterfs/nilah/richard/basenji2/data_pretrained_basenji2/mouse/tfrecords/train-1-25.tfr\n"
     ]
    },
    {
     "name": "stderr",
     "output_type": "stream",
     "text": [
      "256it [00:23, 11.02it/s]\n"
     ]
    },
    {
     "name": "stdout",
     "output_type": "stream",
     "text": [
      "/clusterfs/nilah/richard/basenji2/data_pretrained_basenji2/mouse/tfrecords/train-1-26.tfr\n"
     ]
    },
    {
     "name": "stderr",
     "output_type": "stream",
     "text": [
      "256it [00:22, 11.16it/s]\n"
     ]
    },
    {
     "name": "stdout",
     "output_type": "stream",
     "text": [
      "/clusterfs/nilah/richard/basenji2/data_pretrained_basenji2/mouse/tfrecords/train-1-27.tfr\n"
     ]
    },
    {
     "name": "stderr",
     "output_type": "stream",
     "text": [
      "256it [00:23, 11.06it/s]\n"
     ]
    },
    {
     "name": "stdout",
     "output_type": "stream",
     "text": [
      "/clusterfs/nilah/richard/basenji2/data_pretrained_basenji2/mouse/tfrecords/train-1-28.tfr\n"
     ]
    },
    {
     "name": "stderr",
     "output_type": "stream",
     "text": [
      "256it [00:22, 11.32it/s]\n"
     ]
    },
    {
     "name": "stdout",
     "output_type": "stream",
     "text": [
      "/clusterfs/nilah/richard/basenji2/data_pretrained_basenji2/mouse/tfrecords/train-1-29.tfr\n"
     ]
    },
    {
     "name": "stderr",
     "output_type": "stream",
     "text": [
      "256it [00:22, 11.52it/s]\n"
     ]
    },
    {
     "name": "stdout",
     "output_type": "stream",
     "text": [
      "/clusterfs/nilah/richard/basenji2/data_pretrained_basenji2/mouse/tfrecords/train-1-30.tfr\n"
     ]
    },
    {
     "name": "stderr",
     "output_type": "stream",
     "text": [
      "256it [00:23, 10.75it/s]\n"
     ]
    },
    {
     "name": "stdout",
     "output_type": "stream",
     "text": [
      "/clusterfs/nilah/richard/basenji2/data_pretrained_basenji2/mouse/tfrecords/train-1-31.tfr\n"
     ]
    },
    {
     "name": "stderr",
     "output_type": "stream",
     "text": [
      "256it [00:22, 11.35it/s]\n"
     ]
    },
    {
     "name": "stdout",
     "output_type": "stream",
     "text": [
      "/clusterfs/nilah/richard/basenji2/data_pretrained_basenji2/mouse/tfrecords/train-1-32.tfr\n"
     ]
    },
    {
     "name": "stderr",
     "output_type": "stream",
     "text": [
      "256it [00:23, 10.73it/s]\n"
     ]
    },
    {
     "name": "stdout",
     "output_type": "stream",
     "text": [
      "/clusterfs/nilah/richard/basenji2/data_pretrained_basenji2/mouse/tfrecords/train-1-33.tfr\n"
     ]
    },
    {
     "name": "stderr",
     "output_type": "stream",
     "text": [
      "256it [00:23, 11.07it/s]\n"
     ]
    },
    {
     "name": "stdout",
     "output_type": "stream",
     "text": [
      "/clusterfs/nilah/richard/basenji2/data_pretrained_basenji2/mouse/tfrecords/train-1-34.tfr\n"
     ]
    },
    {
     "name": "stderr",
     "output_type": "stream",
     "text": [
      "256it [00:23, 10.98it/s]\n"
     ]
    },
    {
     "name": "stdout",
     "output_type": "stream",
     "text": [
      "/clusterfs/nilah/richard/basenji2/data_pretrained_basenji2/mouse/tfrecords/train-1-35.tfr\n"
     ]
    },
    {
     "name": "stderr",
     "output_type": "stream",
     "text": [
      "256it [00:22, 11.15it/s]\n"
     ]
    },
    {
     "name": "stdout",
     "output_type": "stream",
     "text": [
      "/clusterfs/nilah/richard/basenji2/data_pretrained_basenji2/mouse/tfrecords/train-1-36.tfr\n"
     ]
    },
    {
     "name": "stderr",
     "output_type": "stream",
     "text": [
      "256it [00:22, 11.31it/s]\n"
     ]
    },
    {
     "name": "stdout",
     "output_type": "stream",
     "text": [
      "/clusterfs/nilah/richard/basenji2/data_pretrained_basenji2/mouse/tfrecords/train-1-37.tfr\n"
     ]
    },
    {
     "name": "stderr",
     "output_type": "stream",
     "text": [
      "256it [00:24, 10.52it/s]\n"
     ]
    },
    {
     "name": "stdout",
     "output_type": "stream",
     "text": [
      "/clusterfs/nilah/richard/basenji2/data_pretrained_basenji2/mouse/tfrecords/train-1-38.tfr\n"
     ]
    },
    {
     "name": "stderr",
     "output_type": "stream",
     "text": [
      "256it [00:24, 10.33it/s]\n"
     ]
    },
    {
     "name": "stdout",
     "output_type": "stream",
     "text": [
      "/clusterfs/nilah/richard/basenji2/data_pretrained_basenji2/mouse/tfrecords/train-1-39.tfr\n"
     ]
    },
    {
     "name": "stderr",
     "output_type": "stream",
     "text": [
      "256it [00:24, 10.47it/s]\n"
     ]
    },
    {
     "name": "stdout",
     "output_type": "stream",
     "text": [
      "/clusterfs/nilah/richard/basenji2/data_pretrained_basenji2/mouse/tfrecords/train-1-40.tfr\n"
     ]
    },
    {
     "name": "stderr",
     "output_type": "stream",
     "text": [
      "256it [00:22, 11.23it/s]\n"
     ]
    },
    {
     "name": "stdout",
     "output_type": "stream",
     "text": [
      "/clusterfs/nilah/richard/basenji2/data_pretrained_basenji2/mouse/tfrecords/train-1-41.tfr\n"
     ]
    },
    {
     "name": "stderr",
     "output_type": "stream",
     "text": [
      "256it [00:23, 10.83it/s]\n"
     ]
    },
    {
     "name": "stdout",
     "output_type": "stream",
     "text": [
      "/clusterfs/nilah/richard/basenji2/data_pretrained_basenji2/mouse/tfrecords/train-1-42.tfr\n"
     ]
    },
    {
     "name": "stderr",
     "output_type": "stream",
     "text": [
      "256it [00:23, 11.05it/s]\n"
     ]
    },
    {
     "name": "stdout",
     "output_type": "stream",
     "text": [
      "/clusterfs/nilah/richard/basenji2/data_pretrained_basenji2/mouse/tfrecords/train-1-43.tfr\n"
     ]
    },
    {
     "name": "stderr",
     "output_type": "stream",
     "text": [
      "256it [00:24, 10.49it/s]\n"
     ]
    },
    {
     "name": "stdout",
     "output_type": "stream",
     "text": [
      "/clusterfs/nilah/richard/basenji2/data_pretrained_basenji2/mouse/tfrecords/train-1-44.tfr\n"
     ]
    },
    {
     "name": "stderr",
     "output_type": "stream",
     "text": [
      "256it [00:24, 10.52it/s]\n"
     ]
    },
    {
     "name": "stdout",
     "output_type": "stream",
     "text": [
      "/clusterfs/nilah/richard/basenji2/data_pretrained_basenji2/mouse/tfrecords/train-1-45.tfr\n"
     ]
    },
    {
     "name": "stderr",
     "output_type": "stream",
     "text": [
      "256it [00:24, 10.47it/s]\n"
     ]
    },
    {
     "name": "stdout",
     "output_type": "stream",
     "text": [
      "/clusterfs/nilah/richard/basenji2/data_pretrained_basenji2/mouse/tfrecords/train-1-46.tfr\n"
     ]
    },
    {
     "name": "stderr",
     "output_type": "stream",
     "text": [
      "256it [00:24, 10.56it/s]\n"
     ]
    },
    {
     "name": "stdout",
     "output_type": "stream",
     "text": [
      "/clusterfs/nilah/richard/basenji2/data_pretrained_basenji2/mouse/tfrecords/train-1-47.tfr\n"
     ]
    },
    {
     "name": "stderr",
     "output_type": "stream",
     "text": [
      "256it [00:24, 10.33it/s]\n"
     ]
    },
    {
     "name": "stdout",
     "output_type": "stream",
     "text": [
      "/clusterfs/nilah/richard/basenji2/data_pretrained_basenji2/mouse/tfrecords/train-1-48.tfr\n"
     ]
    },
    {
     "name": "stderr",
     "output_type": "stream",
     "text": [
      "256it [00:24, 10.52it/s]\n"
     ]
    },
    {
     "name": "stdout",
     "output_type": "stream",
     "text": [
      "/clusterfs/nilah/richard/basenji2/data_pretrained_basenji2/mouse/tfrecords/train-1-49.tfr\n"
     ]
    },
    {
     "name": "stderr",
     "output_type": "stream",
     "text": [
      "256it [00:24, 10.65it/s]\n"
     ]
    },
    {
     "name": "stdout",
     "output_type": "stream",
     "text": [
      "/clusterfs/nilah/richard/basenji2/data_pretrained_basenji2/mouse/tfrecords/train-1-50.tfr\n"
     ]
    },
    {
     "name": "stderr",
     "output_type": "stream",
     "text": [
      "256it [00:24, 10.49it/s]\n"
     ]
    },
    {
     "name": "stdout",
     "output_type": "stream",
     "text": [
      "/clusterfs/nilah/richard/basenji2/data_pretrained_basenji2/mouse/tfrecords/train-1-51.tfr\n"
     ]
    },
    {
     "name": "stderr",
     "output_type": "stream",
     "text": [
      "256it [00:24, 10.57it/s]\n"
     ]
    },
    {
     "name": "stdout",
     "output_type": "stream",
     "text": [
      "/clusterfs/nilah/richard/basenji2/data_pretrained_basenji2/mouse/tfrecords/train-1-52.tfr\n"
     ]
    },
    {
     "name": "stderr",
     "output_type": "stream",
     "text": [
      "256it [00:24, 10.37it/s]\n"
     ]
    },
    {
     "name": "stdout",
     "output_type": "stream",
     "text": [
      "/clusterfs/nilah/richard/basenji2/data_pretrained_basenji2/mouse/tfrecords/train-1-53.tfr\n"
     ]
    },
    {
     "name": "stderr",
     "output_type": "stream",
     "text": [
      "256it [00:24, 10.66it/s]\n"
     ]
    },
    {
     "name": "stdout",
     "output_type": "stream",
     "text": [
      "/clusterfs/nilah/richard/basenji2/data_pretrained_basenji2/mouse/tfrecords/train-1-54.tfr\n"
     ]
    },
    {
     "name": "stderr",
     "output_type": "stream",
     "text": [
      "256it [00:23, 11.02it/s]\n"
     ]
    },
    {
     "name": "stdout",
     "output_type": "stream",
     "text": [
      "/clusterfs/nilah/richard/basenji2/data_pretrained_basenji2/mouse/tfrecords/train-1-55.tfr\n"
     ]
    },
    {
     "name": "stderr",
     "output_type": "stream",
     "text": [
      "256it [00:22, 11.30it/s]\n"
     ]
    },
    {
     "name": "stdout",
     "output_type": "stream",
     "text": [
      "/clusterfs/nilah/richard/basenji2/data_pretrained_basenji2/mouse/tfrecords/train-1-56.tfr\n"
     ]
    },
    {
     "name": "stderr",
     "output_type": "stream",
     "text": [
      "256it [00:22, 11.62it/s]\n"
     ]
    },
    {
     "name": "stdout",
     "output_type": "stream",
     "text": [
      "/clusterfs/nilah/richard/basenji2/data_pretrained_basenji2/mouse/tfrecords/train-1-57.tfr\n"
     ]
    },
    {
     "name": "stderr",
     "output_type": "stream",
     "text": [
      "256it [00:22, 11.42it/s]\n"
     ]
    },
    {
     "name": "stdout",
     "output_type": "stream",
     "text": [
      "/clusterfs/nilah/richard/basenji2/data_pretrained_basenji2/mouse/tfrecords/train-1-58.tfr\n"
     ]
    },
    {
     "name": "stderr",
     "output_type": "stream",
     "text": [
      "256it [00:22, 11.32it/s]\n"
     ]
    },
    {
     "name": "stdout",
     "output_type": "stream",
     "text": [
      "/clusterfs/nilah/richard/basenji2/data_pretrained_basenji2/mouse/tfrecords/train-1-59.tfr\n"
     ]
    },
    {
     "name": "stderr",
     "output_type": "stream",
     "text": [
      "256it [00:21, 11.64it/s]\n"
     ]
    },
    {
     "name": "stdout",
     "output_type": "stream",
     "text": [
      "/clusterfs/nilah/richard/basenji2/data_pretrained_basenji2/mouse/tfrecords/train-1-60.tfr\n"
     ]
    },
    {
     "name": "stderr",
     "output_type": "stream",
     "text": [
      "256it [00:22, 11.39it/s]\n"
     ]
    },
    {
     "name": "stdout",
     "output_type": "stream",
     "text": [
      "/clusterfs/nilah/richard/basenji2/data_pretrained_basenji2/mouse/tfrecords/train-1-61.tfr\n"
     ]
    },
    {
     "name": "stderr",
     "output_type": "stream",
     "text": [
      "256it [00:22, 11.37it/s]\n"
     ]
    },
    {
     "name": "stdout",
     "output_type": "stream",
     "text": [
      "/clusterfs/nilah/richard/basenji2/data_pretrained_basenji2/mouse/tfrecords/train-1-62.tfr\n"
     ]
    },
    {
     "name": "stderr",
     "output_type": "stream",
     "text": [
      "256it [00:21, 11.70it/s]\n"
     ]
    },
    {
     "name": "stdout",
     "output_type": "stream",
     "text": [
      "/clusterfs/nilah/richard/basenji2/data_pretrained_basenji2/mouse/tfrecords/train-1-63.tfr\n"
     ]
    },
    {
     "name": "stderr",
     "output_type": "stream",
     "text": [
      "256it [00:22, 11.43it/s]\n"
     ]
    },
    {
     "name": "stdout",
     "output_type": "stream",
     "text": [
      "/clusterfs/nilah/richard/basenji2/data_pretrained_basenji2/mouse/tfrecords/train-1-64.tfr\n"
     ]
    },
    {
     "name": "stderr",
     "output_type": "stream",
     "text": [
      "256it [00:22, 11.43it/s]\n"
     ]
    },
    {
     "name": "stdout",
     "output_type": "stream",
     "text": [
      "/clusterfs/nilah/richard/basenji2/data_pretrained_basenji2/mouse/tfrecords/train-1-65.tfr\n"
     ]
    },
    {
     "name": "stderr",
     "output_type": "stream",
     "text": [
      "256it [00:22, 11.51it/s]\n"
     ]
    },
    {
     "name": "stdout",
     "output_type": "stream",
     "text": [
      "/clusterfs/nilah/richard/basenji2/data_pretrained_basenji2/mouse/tfrecords/train-1-66.tfr\n"
     ]
    },
    {
     "name": "stderr",
     "output_type": "stream",
     "text": [
      "256it [00:22, 11.28it/s]\n"
     ]
    },
    {
     "name": "stdout",
     "output_type": "stream",
     "text": [
      "/clusterfs/nilah/richard/basenji2/data_pretrained_basenji2/mouse/tfrecords/train-1-67.tfr\n"
     ]
    },
    {
     "name": "stderr",
     "output_type": "stream",
     "text": [
      "256it [00:22, 11.25it/s]\n"
     ]
    },
    {
     "name": "stdout",
     "output_type": "stream",
     "text": [
      "/clusterfs/nilah/richard/basenji2/data_pretrained_basenji2/mouse/tfrecords/train-1-68.tfr\n"
     ]
    },
    {
     "name": "stderr",
     "output_type": "stream",
     "text": [
      "256it [00:23, 10.88it/s]\n"
     ]
    },
    {
     "name": "stdout",
     "output_type": "stream",
     "text": [
      "/clusterfs/nilah/richard/basenji2/data_pretrained_basenji2/mouse/tfrecords/train-1-69.tfr\n"
     ]
    },
    {
     "name": "stderr",
     "output_type": "stream",
     "text": [
      "256it [00:23, 10.95it/s]\n"
     ]
    },
    {
     "name": "stdout",
     "output_type": "stream",
     "text": [
      "/clusterfs/nilah/richard/basenji2/data_pretrained_basenji2/mouse/tfrecords/train-1-70.tfr\n"
     ]
    },
    {
     "name": "stderr",
     "output_type": "stream",
     "text": [
      "256it [00:24, 10.63it/s]\n"
     ]
    },
    {
     "name": "stdout",
     "output_type": "stream",
     "text": [
      "/clusterfs/nilah/richard/basenji2/data_pretrained_basenji2/mouse/tfrecords/train-1-71.tfr\n"
     ]
    },
    {
     "name": "stderr",
     "output_type": "stream",
     "text": [
      "256it [00:24, 10.43it/s]\n"
     ]
    },
    {
     "name": "stdout",
     "output_type": "stream",
     "text": [
      "/clusterfs/nilah/richard/basenji2/data_pretrained_basenji2/mouse/tfrecords/train-1-72.tfr\n"
     ]
    },
    {
     "name": "stderr",
     "output_type": "stream",
     "text": [
      "256it [00:22, 11.31it/s]\n"
     ]
    },
    {
     "name": "stdout",
     "output_type": "stream",
     "text": [
      "/clusterfs/nilah/richard/basenji2/data_pretrained_basenji2/mouse/tfrecords/train-1-73.tfr\n"
     ]
    },
    {
     "name": "stderr",
     "output_type": "stream",
     "text": [
      "256it [00:24, 10.44it/s]\n"
     ]
    },
    {
     "name": "stdout",
     "output_type": "stream",
     "text": [
      "/clusterfs/nilah/richard/basenji2/data_pretrained_basenji2/mouse/tfrecords/train-1-74.tfr\n"
     ]
    },
    {
     "name": "stderr",
     "output_type": "stream",
     "text": [
      "256it [00:22, 11.39it/s]\n"
     ]
    },
    {
     "name": "stdout",
     "output_type": "stream",
     "text": [
      "/clusterfs/nilah/richard/basenji2/data_pretrained_basenji2/mouse/tfrecords/train-1-75.tfr\n"
     ]
    },
    {
     "name": "stderr",
     "output_type": "stream",
     "text": [
      "256it [00:22, 11.46it/s]\n"
     ]
    },
    {
     "name": "stdout",
     "output_type": "stream",
     "text": [
      "/clusterfs/nilah/richard/basenji2/data_pretrained_basenji2/mouse/tfrecords/train-1-76.tfr\n"
     ]
    },
    {
     "name": "stderr",
     "output_type": "stream",
     "text": [
      "256it [00:23, 11.04it/s]\n"
     ]
    },
    {
     "name": "stdout",
     "output_type": "stream",
     "text": [
      "/clusterfs/nilah/richard/basenji2/data_pretrained_basenji2/mouse/tfrecords/train-1-77.tfr\n"
     ]
    },
    {
     "name": "stderr",
     "output_type": "stream",
     "text": [
      "256it [00:23, 10.88it/s]\n"
     ]
    },
    {
     "name": "stdout",
     "output_type": "stream",
     "text": [
      "/clusterfs/nilah/richard/basenji2/data_pretrained_basenji2/mouse/tfrecords/train-1-78.tfr\n"
     ]
    },
    {
     "name": "stderr",
     "output_type": "stream",
     "text": [
      "256it [00:21, 11.85it/s]\n"
     ]
    },
    {
     "name": "stdout",
     "output_type": "stream",
     "text": [
      "/clusterfs/nilah/richard/basenji2/data_pretrained_basenji2/mouse/tfrecords/train-1-79.tfr\n"
     ]
    },
    {
     "name": "stderr",
     "output_type": "stream",
     "text": [
      "256it [00:23, 10.95it/s]\n"
     ]
    },
    {
     "name": "stdout",
     "output_type": "stream",
     "text": [
      "/clusterfs/nilah/richard/basenji2/data_pretrained_basenji2/mouse/tfrecords/train-1-80.tfr\n"
     ]
    },
    {
     "name": "stderr",
     "output_type": "stream",
     "text": [
      "256it [00:23, 10.98it/s]\n"
     ]
    },
    {
     "name": "stdout",
     "output_type": "stream",
     "text": [
      "/clusterfs/nilah/richard/basenji2/data_pretrained_basenji2/mouse/tfrecords/train-1-81.tfr\n"
     ]
    },
    {
     "name": "stderr",
     "output_type": "stream",
     "text": [
      "256it [00:21, 11.69it/s]\n"
     ]
    },
    {
     "name": "stdout",
     "output_type": "stream",
     "text": [
      "/clusterfs/nilah/richard/basenji2/data_pretrained_basenji2/mouse/tfrecords/train-1-82.tfr\n"
     ]
    },
    {
     "name": "stderr",
     "output_type": "stream",
     "text": [
      "256it [00:22, 11.48it/s]\n"
     ]
    },
    {
     "name": "stdout",
     "output_type": "stream",
     "text": [
      "/clusterfs/nilah/richard/basenji2/data_pretrained_basenji2/mouse/tfrecords/train-1-83.tfr\n"
     ]
    },
    {
     "name": "stderr",
     "output_type": "stream",
     "text": [
      "256it [00:22, 11.48it/s]\n"
     ]
    },
    {
     "name": "stdout",
     "output_type": "stream",
     "text": [
      "/clusterfs/nilah/richard/basenji2/data_pretrained_basenji2/mouse/tfrecords/train-1-84.tfr\n"
     ]
    },
    {
     "name": "stderr",
     "output_type": "stream",
     "text": [
      "256it [00:22, 11.60it/s]\n"
     ]
    },
    {
     "name": "stdout",
     "output_type": "stream",
     "text": [
      "/clusterfs/nilah/richard/basenji2/data_pretrained_basenji2/mouse/tfrecords/train-1-85.tfr\n"
     ]
    },
    {
     "name": "stderr",
     "output_type": "stream",
     "text": [
      "256it [00:21, 11.89it/s]\n"
     ]
    },
    {
     "name": "stdout",
     "output_type": "stream",
     "text": [
      "/clusterfs/nilah/richard/basenji2/data_pretrained_basenji2/mouse/tfrecords/train-1-86.tfr\n"
     ]
    },
    {
     "name": "stderr",
     "output_type": "stream",
     "text": [
      "256it [00:22, 11.53it/s]\n"
     ]
    },
    {
     "name": "stdout",
     "output_type": "stream",
     "text": [
      "/clusterfs/nilah/richard/basenji2/data_pretrained_basenji2/mouse/tfrecords/train-1-87.tfr\n"
     ]
    },
    {
     "name": "stderr",
     "output_type": "stream",
     "text": [
      "256it [00:22, 11.37it/s]\n"
     ]
    },
    {
     "name": "stdout",
     "output_type": "stream",
     "text": [
      "/clusterfs/nilah/richard/basenji2/data_pretrained_basenji2/mouse/tfrecords/train-1-88.tfr\n"
     ]
    },
    {
     "name": "stderr",
     "output_type": "stream",
     "text": [
      "256it [00:22, 11.55it/s]\n"
     ]
    },
    {
     "name": "stdout",
     "output_type": "stream",
     "text": [
      "/clusterfs/nilah/richard/basenji2/data_pretrained_basenji2/mouse/tfrecords/train-1-89.tfr\n"
     ]
    },
    {
     "name": "stderr",
     "output_type": "stream",
     "text": [
      "256it [00:21, 11.75it/s]\n"
     ]
    },
    {
     "name": "stdout",
     "output_type": "stream",
     "text": [
      "/clusterfs/nilah/richard/basenji2/data_pretrained_basenji2/mouse/tfrecords/train-1-90.tfr\n"
     ]
    },
    {
     "name": "stderr",
     "output_type": "stream",
     "text": [
      "256it [00:23, 11.05it/s]\n"
     ]
    },
    {
     "name": "stdout",
     "output_type": "stream",
     "text": [
      "/clusterfs/nilah/richard/basenji2/data_pretrained_basenji2/mouse/tfrecords/train-1-91.tfr\n"
     ]
    },
    {
     "name": "stderr",
     "output_type": "stream",
     "text": [
      "256it [00:21, 11.81it/s]\n"
     ]
    },
    {
     "name": "stdout",
     "output_type": "stream",
     "text": [
      "/clusterfs/nilah/richard/basenji2/data_pretrained_basenji2/mouse/tfrecords/train-1-92.tfr\n"
     ]
    },
    {
     "name": "stderr",
     "output_type": "stream",
     "text": [
      "256it [00:23, 11.10it/s]\n"
     ]
    },
    {
     "name": "stdout",
     "output_type": "stream",
     "text": [
      "/clusterfs/nilah/richard/basenji2/data_pretrained_basenji2/mouse/tfrecords/train-1-93.tfr\n"
     ]
    },
    {
     "name": "stderr",
     "output_type": "stream",
     "text": [
      "256it [00:22, 11.30it/s]\n"
     ]
    },
    {
     "name": "stdout",
     "output_type": "stream",
     "text": [
      "/clusterfs/nilah/richard/basenji2/data_pretrained_basenji2/mouse/tfrecords/train-1-94.tfr\n"
     ]
    },
    {
     "name": "stderr",
     "output_type": "stream",
     "text": [
      "256it [00:22, 11.38it/s]\n"
     ]
    },
    {
     "name": "stdout",
     "output_type": "stream",
     "text": [
      "/clusterfs/nilah/richard/basenji2/data_pretrained_basenji2/mouse/tfrecords/train-1-95.tfr\n"
     ]
    },
    {
     "name": "stderr",
     "output_type": "stream",
     "text": [
      "256it [00:22, 11.55it/s]\n"
     ]
    },
    {
     "name": "stdout",
     "output_type": "stream",
     "text": [
      "/clusterfs/nilah/richard/basenji2/data_pretrained_basenji2/mouse/tfrecords/train-1-96.tfr\n"
     ]
    },
    {
     "name": "stderr",
     "output_type": "stream",
     "text": [
      "256it [00:22, 11.20it/s]\n"
     ]
    },
    {
     "name": "stdout",
     "output_type": "stream",
     "text": [
      "/clusterfs/nilah/richard/basenji2/data_pretrained_basenji2/mouse/tfrecords/train-1-97.tfr\n"
     ]
    },
    {
     "name": "stderr",
     "output_type": "stream",
     "text": [
      "256it [00:22, 11.61it/s]\n"
     ]
    },
    {
     "name": "stdout",
     "output_type": "stream",
     "text": [
      "/clusterfs/nilah/richard/basenji2/data_pretrained_basenji2/mouse/tfrecords/train-1-98.tfr\n"
     ]
    },
    {
     "name": "stderr",
     "output_type": "stream",
     "text": [
      "256it [00:22, 11.51it/s]\n"
     ]
    },
    {
     "name": "stdout",
     "output_type": "stream",
     "text": [
      "/clusterfs/nilah/richard/basenji2/data_pretrained_basenji2/mouse/tfrecords/train-1-99.tfr\n"
     ]
    },
    {
     "name": "stderr",
     "output_type": "stream",
     "text": [
      "256it [00:21, 11.88it/s]\n"
     ]
    },
    {
     "name": "stdout",
     "output_type": "stream",
     "text": [
      "/clusterfs/nilah/richard/basenji2/data_pretrained_basenji2/mouse/tfrecords/train-1-100.tfr\n"
     ]
    },
    {
     "name": "stderr",
     "output_type": "stream",
     "text": [
      "256it [00:22, 11.57it/s]\n"
     ]
    },
    {
     "name": "stdout",
     "output_type": "stream",
     "text": [
      "/clusterfs/nilah/richard/basenji2/data_pretrained_basenji2/mouse/tfrecords/train-1-101.tfr\n"
     ]
    },
    {
     "name": "stderr",
     "output_type": "stream",
     "text": [
      "256it [00:22, 11.61it/s]\n"
     ]
    },
    {
     "name": "stdout",
     "output_type": "stream",
     "text": [
      "/clusterfs/nilah/richard/basenji2/data_pretrained_basenji2/mouse/tfrecords/train-1-102.tfr\n"
     ]
    },
    {
     "name": "stderr",
     "output_type": "stream",
     "text": [
      "256it [00:22, 11.36it/s]\n"
     ]
    },
    {
     "name": "stdout",
     "output_type": "stream",
     "text": [
      "/clusterfs/nilah/richard/basenji2/data_pretrained_basenji2/mouse/tfrecords/train-1-103.tfr\n"
     ]
    },
    {
     "name": "stderr",
     "output_type": "stream",
     "text": [
      "256it [00:23, 11.00it/s]\n"
     ]
    },
    {
     "name": "stdout",
     "output_type": "stream",
     "text": [
      "/clusterfs/nilah/richard/basenji2/data_pretrained_basenji2/mouse/tfrecords/train-1-104.tfr\n"
     ]
    },
    {
     "name": "stderr",
     "output_type": "stream",
     "text": [
      "256it [00:21, 11.81it/s]\n"
     ]
    },
    {
     "name": "stdout",
     "output_type": "stream",
     "text": [
      "/clusterfs/nilah/richard/basenji2/data_pretrained_basenji2/mouse/tfrecords/train-1-105.tfr\n"
     ]
    },
    {
     "name": "stderr",
     "output_type": "stream",
     "text": [
      "256it [00:21, 11.75it/s]\n"
     ]
    },
    {
     "name": "stdout",
     "output_type": "stream",
     "text": [
      "/clusterfs/nilah/richard/basenji2/data_pretrained_basenji2/mouse/tfrecords/train-1-106.tfr\n"
     ]
    },
    {
     "name": "stderr",
     "output_type": "stream",
     "text": [
      "256it [00:21, 11.80it/s]\n"
     ]
    },
    {
     "name": "stdout",
     "output_type": "stream",
     "text": [
      "/clusterfs/nilah/richard/basenji2/data_pretrained_basenji2/mouse/tfrecords/train-1-107.tfr\n"
     ]
    },
    {
     "name": "stderr",
     "output_type": "stream",
     "text": [
      "256it [00:22, 11.47it/s]\n"
     ]
    },
    {
     "name": "stdout",
     "output_type": "stream",
     "text": [
      "/clusterfs/nilah/richard/basenji2/data_pretrained_basenji2/mouse/tfrecords/train-1-108.tfr\n"
     ]
    },
    {
     "name": "stderr",
     "output_type": "stream",
     "text": [
      "256it [00:22, 11.57it/s]\n"
     ]
    },
    {
     "name": "stdout",
     "output_type": "stream",
     "text": [
      "/clusterfs/nilah/richard/basenji2/data_pretrained_basenji2/mouse/tfrecords/train-1-109.tfr\n"
     ]
    },
    {
     "name": "stderr",
     "output_type": "stream",
     "text": [
      "256it [00:22, 11.44it/s]\n"
     ]
    },
    {
     "name": "stdout",
     "output_type": "stream",
     "text": [
      "/clusterfs/nilah/richard/basenji2/data_pretrained_basenji2/mouse/tfrecords/train-1-110.tfr\n"
     ]
    },
    {
     "name": "stderr",
     "output_type": "stream",
     "text": [
      "256it [00:21, 11.67it/s]\n"
     ]
    },
    {
     "name": "stdout",
     "output_type": "stream",
     "text": [
      "/clusterfs/nilah/richard/basenji2/data_pretrained_basenji2/mouse/tfrecords/train-1-111.tfr\n"
     ]
    },
    {
     "name": "stderr",
     "output_type": "stream",
     "text": [
      "256it [00:22, 11.49it/s]\n"
     ]
    },
    {
     "name": "stdout",
     "output_type": "stream",
     "text": [
      "/clusterfs/nilah/richard/basenji2/data_pretrained_basenji2/mouse/tfrecords/train-1-112.tfr\n"
     ]
    },
    {
     "name": "stderr",
     "output_type": "stream",
     "text": [
      "256it [00:21, 11.67it/s]\n"
     ]
    },
    {
     "name": "stdout",
     "output_type": "stream",
     "text": [
      "/clusterfs/nilah/richard/basenji2/data_pretrained_basenji2/mouse/tfrecords/train-1-113.tfr\n"
     ]
    },
    {
     "name": "stderr",
     "output_type": "stream",
     "text": [
      "256it [00:22, 11.49it/s]\n"
     ]
    },
    {
     "name": "stdout",
     "output_type": "stream",
     "text": [
      "/clusterfs/nilah/richard/basenji2/data_pretrained_basenji2/mouse/tfrecords/train-1-114.tfr\n"
     ]
    },
    {
     "name": "stderr",
     "output_type": "stream",
     "text": [
      "111it [00:09, 11.18it/s]\n"
     ]
    },
    {
     "name": "stdout",
     "output_type": "stream",
     "text": [
      "test\n",
      "/clusterfs/nilah/richard/basenji2/data_pretrained_basenji2/mouse/tfrecords/test-1-0.tfr\n"
     ]
    },
    {
     "name": "stderr",
     "output_type": "stream",
     "text": [
      "256it [00:28,  9.01it/s]\n"
     ]
    },
    {
     "name": "stdout",
     "output_type": "stream",
     "text": [
      "/clusterfs/nilah/richard/basenji2/data_pretrained_basenji2/mouse/tfrecords/test-1-1.tfr\n"
     ]
    },
    {
     "name": "stderr",
     "output_type": "stream",
     "text": [
      "256it [00:24, 10.64it/s]\n"
     ]
    },
    {
     "name": "stdout",
     "output_type": "stream",
     "text": [
      "/clusterfs/nilah/richard/basenji2/data_pretrained_basenji2/mouse/tfrecords/test-1-2.tfr\n"
     ]
    },
    {
     "name": "stderr",
     "output_type": "stream",
     "text": [
      "256it [00:23, 10.99it/s]\n"
     ]
    },
    {
     "name": "stdout",
     "output_type": "stream",
     "text": [
      "/clusterfs/nilah/richard/basenji2/data_pretrained_basenji2/mouse/tfrecords/test-1-3.tfr\n"
     ]
    },
    {
     "name": "stderr",
     "output_type": "stream",
     "text": [
      "256it [00:23, 10.97it/s]\n"
     ]
    },
    {
     "name": "stdout",
     "output_type": "stream",
     "text": [
      "/clusterfs/nilah/richard/basenji2/data_pretrained_basenji2/mouse/tfrecords/test-1-4.tfr\n"
     ]
    },
    {
     "name": "stderr",
     "output_type": "stream",
     "text": [
      "256it [00:22, 11.22it/s]\n"
     ]
    },
    {
     "name": "stdout",
     "output_type": "stream",
     "text": [
      "/clusterfs/nilah/richard/basenji2/data_pretrained_basenji2/mouse/tfrecords/test-1-5.tfr\n"
     ]
    },
    {
     "name": "stderr",
     "output_type": "stream",
     "text": [
      "256it [00:22, 11.43it/s]\n"
     ]
    },
    {
     "name": "stdout",
     "output_type": "stream",
     "text": [
      "/clusterfs/nilah/richard/basenji2/data_pretrained_basenji2/mouse/tfrecords/test-1-6.tfr\n"
     ]
    },
    {
     "name": "stderr",
     "output_type": "stream",
     "text": [
      "256it [00:22, 11.60it/s]\n"
     ]
    },
    {
     "name": "stdout",
     "output_type": "stream",
     "text": [
      "/clusterfs/nilah/richard/basenji2/data_pretrained_basenji2/mouse/tfrecords/test-1-7.tfr\n"
     ]
    },
    {
     "name": "stderr",
     "output_type": "stream",
     "text": [
      "225it [00:19, 11.58it/s]\n"
     ]
    },
    {
     "name": "stdout",
     "output_type": "stream",
     "text": [
      "valid\n",
      "/clusterfs/nilah/richard/basenji2/data_pretrained_basenji2/mouse/tfrecords/valid-1-0.tfr\n"
     ]
    },
    {
     "name": "stderr",
     "output_type": "stream",
     "text": [
      "256it [00:27,  9.43it/s]\n"
     ]
    },
    {
     "name": "stdout",
     "output_type": "stream",
     "text": [
      "/clusterfs/nilah/richard/basenji2/data_pretrained_basenji2/mouse/tfrecords/valid-1-1.tfr\n"
     ]
    },
    {
     "name": "stderr",
     "output_type": "stream",
     "text": [
      "256it [00:24, 10.59it/s]\n"
     ]
    },
    {
     "name": "stdout",
     "output_type": "stream",
     "text": [
      "/clusterfs/nilah/richard/basenji2/data_pretrained_basenji2/mouse/tfrecords/valid-1-2.tfr\n"
     ]
    },
    {
     "name": "stderr",
     "output_type": "stream",
     "text": [
      "256it [00:23, 11.00it/s]\n"
     ]
    },
    {
     "name": "stdout",
     "output_type": "stream",
     "text": [
      "/clusterfs/nilah/richard/basenji2/data_pretrained_basenji2/mouse/tfrecords/valid-1-3.tfr\n"
     ]
    },
    {
     "name": "stderr",
     "output_type": "stream",
     "text": [
      "256it [00:24, 10.66it/s]\n"
     ]
    },
    {
     "name": "stdout",
     "output_type": "stream",
     "text": [
      "/clusterfs/nilah/richard/basenji2/data_pretrained_basenji2/mouse/tfrecords/valid-1-4.tfr\n"
     ]
    },
    {
     "name": "stderr",
     "output_type": "stream",
     "text": [
      "256it [00:22, 11.43it/s]\n"
     ]
    },
    {
     "name": "stdout",
     "output_type": "stream",
     "text": [
      "/clusterfs/nilah/richard/basenji2/data_pretrained_basenji2/mouse/tfrecords/valid-1-5.tfr\n"
     ]
    },
    {
     "name": "stderr",
     "output_type": "stream",
     "text": [
      "256it [00:23, 11.10it/s]\n"
     ]
    },
    {
     "name": "stdout",
     "output_type": "stream",
     "text": [
      "/clusterfs/nilah/richard/basenji2/data_pretrained_basenji2/mouse/tfrecords/valid-1-6.tfr\n"
     ]
    },
    {
     "name": "stderr",
     "output_type": "stream",
     "text": [
      "256it [00:22, 11.44it/s]\n"
     ]
    },
    {
     "name": "stdout",
     "output_type": "stream",
     "text": [
      "/clusterfs/nilah/richard/basenji2/data_pretrained_basenji2/mouse/tfrecords/valid-1-7.tfr\n"
     ]
    },
    {
     "name": "stderr",
     "output_type": "stream",
     "text": [
      "256it [00:21, 11.81it/s]\n"
     ]
    },
    {
     "name": "stdout",
     "output_type": "stream",
     "text": [
      "/clusterfs/nilah/richard/basenji2/data_pretrained_basenji2/mouse/tfrecords/valid-1-8.tfr\n"
     ]
    },
    {
     "name": "stderr",
     "output_type": "stream",
     "text": [
      "161it [00:14, 11.24it/s]\n"
     ]
    }
   ],
   "source": [
    "root_data_dir = \"/clusterfs/nilah/richard/basenji2/data_pretrained_basenji2\"\n",
    "enformer_root_data_dir = \"/global/scratch/users/aniketh/enformer_data/\"\n",
    "split_labels = [\"train\", \"test\", \"valid\"]\n",
    "\n",
    "ind_to_base = np.array([\"A\", \"C\", \"G\", \"T\"])\n",
    "enformer_input_size = 196608\n",
    "\n",
    "for i, species in enumerate([\"human\", \"mouse\"]):\n",
    "    print(species)\n",
    "    \n",
    "    data_dir = os.path.join(root_data_dir, species)\n",
    "    \n",
    "    if species == \"human\":\n",
    "        fasta_file = \"/clusterfs/nilah/aniketh/hg38/hg38.fa\"\n",
    "        chromosome_sizes = \"/global/home/users/aniketh/basenji_CL_trial/data/human.hg38.genome\"\n",
    "    elif species == \"mouse\":\n",
    "        fasta_file = \"/clusterfs/nilah/aniketh/mm10/mm10.fa\"\n",
    "        chromosome_sizes = \"/global/home/users/aniketh/basenji_CL_trial/data/mouse.mm10.genome\"\n",
    "        \n",
    "    fasta_extractor = fasta_utils.FastaStringExtractor(fasta_file)\n",
    "    chromosome_sizes = pd.read_csv(chromosome_sizes, sep=\"\\t\", names=[\"chromosome\", \"size\"], header=None)\n",
    "    \n",
    "    # create new enformer data dirs\n",
    "    enformer_species_data_dir = os.path.join(enformer_root_data_dir, species)\n",
    "    os.makedirs(enformer_species_data_dir, exist_ok=True)\n",
    "    os.makedirs(os.path.join(enformer_species_data_dir, \"tfrecords\"), exist_ok=True)\n",
    "    \n",
    "    # read data parameters\n",
    "    data_stats_file = '%s/statistics.json' % data_dir\n",
    "    with open(data_stats_file) as data_stats_open:\n",
    "        data_stats = json.load(data_stats_open)\n",
    "\n",
    "    seq_length = data_stats['seq_length']\n",
    "    seq_depth = data_stats.get('seq_depth',4)\n",
    "    seq_1hot = data_stats.get('seq_1hot', False)\n",
    "    target_length = data_stats['target_length']\n",
    "    num_targets = data_stats['num_targets']\n",
    "    pool_width = data_stats['pool_width']\n",
    "    \n",
    "    # enformer data parameters\n",
    "    enformer_data_stats_file = '%s/statistics.json' % enformer_species_data_dir\n",
    "    enformer_data_stats = data_stats.copy()\n",
    "    enformer_data_stats['seq_length'] = enformer_input_size\n",
    "    \n",
    "    with open(enformer_data_stats_file, \"w+\") as enformer_data_stats_open:\n",
    "        json.dump(enformer_data_stats, enformer_data_stats_open, indent=4)\n",
    "    \n",
    "    # read sequences BED file\n",
    "    all_sequences = pd.read_csv(os.path.join(root_data_dir, species, \"sequences.bed\"), \n",
    "                                sep=\"\\t\", \n",
    "                                names=[\"chromosome\", \"start\", \"end\", \"split\"], \n",
    "                                header=None)\n",
    "    \n",
    "    # copy it over to enformer data dir\n",
    "    os.system(\"cp {} {}\".format(os.path.join(root_data_dir, species, \"sequences.bed\"), os.path.join(enformer_root_data_dir, species, \"sequences.bed\")))\n",
    "    # also copy over targets info\n",
    "    os.system(\"cp {} {}\".format(os.path.join(root_data_dir, species, \"targets.txt\"), os.path.join(enformer_root_data_dir, species, \"targets.txt\")))\n",
    "    \n",
    "    # compute extra sequence to be extracted from each side of original sequence\n",
    "    extra_seq_needed = (enformer_data_stats['seq_length'] - seq_length) // 2\n",
    "    \n",
    "    for split_label in split_labels:\n",
    "        print(split_label)\n",
    "        \n",
    "        subset_all_sequences = all_sequences[all_sequences[\"split\"] == split_label].reset_index(drop=True)\n",
    "\n",
    "        # collect tfrecords\n",
    "        tfr_path = '%s/tfrecords/%s-*.tfr' % (data_dir, split_label)\n",
    "        tfr_files = natsorted(glob.glob(tfr_path))\n",
    "        \n",
    "        total_rec_count = 0\n",
    "        for f in tfr_files:\n",
    "            print(f)\n",
    "            \n",
    "            new_f = f.replace(data_dir, enformer_species_data_dir)\n",
    "            fcn = f.split(\"-\")[-1].split(\".\")[0]\n",
    "\n",
    "            if os.path.exists(new_f):\n",
    "                print(\"TFRecords already exist, not rewriting...\")\n",
    "            \n",
    "            file = tf.data.TFRecordDataset(f, compression_type='ZLIB').map(generate_parser(seq_length, seq_1hot, seq_depth, None, target_length, num_targets))\n",
    "            \n",
    "            check = True\n",
    "            if not os.path.exists(new_f):\n",
    "                new_file = tf.io.TFRecordWriter(new_f)\n",
    "                check = False\n",
    "            \n",
    "            for record in tqdm(file.batch(1)):\n",
    "                sequence, target = record\n",
    "                sequence = sequence.numpy().astype(\"uint8\")\n",
    "                target = target.numpy().astype(\"float16\")\n",
    "                \n",
    "                # assert that genomic locus from sequences BED file matches the sequence in this record\n",
    "                row = subset_all_sequences.iloc[total_rec_count]\n",
    "                sequence_from_fasta = fasta_utils.get_sequence(row[\"chromosome\"], \\\n",
    "                                                               row[\"start\"] + 1, \\\n",
    "                                                               row[\"end\"] + 1, \\\n",
    "                                                               \".\", \\\n",
    "                                                               fasta_extractor)\n",
    "                sequence_from_fasta = np.array([_ for _ in sequence_from_fasta])\n",
    "                sequence_from_one_hot = ind_to_base[sequence[0].argmax(axis=-1)]\n",
    "                N_mask = sequence_from_fasta == \"N\"\n",
    "                assert np.all(sequence_from_one_hot[~N_mask] == sequence_from_fasta[~N_mask])\n",
    "                \n",
    "                # now get expanded sequence\n",
    "                # left pad if needed\n",
    "                expanded_sequence_start = max(1, row[\"start\"] + 1 - extra_seq_needed)\n",
    "                if expanded_sequence_start == 1:\n",
    "                    left_pad = \"\".join([\"N\" for _ in range(1 - (row[\"start\"] + 1 - extra_seq_needed))])\n",
    "                else:\n",
    "                    left_pad = \"\"                    \n",
    "                \n",
    "                # right pad if needed\n",
    "                chr_size = chromosome_sizes[chromosome_sizes[\"chromosome\"] == row[\"chromosome\"]].iloc[0][\"size\"]\n",
    "                expanded_sequence_end = min(chr_size + 1, row[\"end\"] + 1 + extra_seq_needed)\n",
    "                if expanded_sequence_end == (chr_size + 1):\n",
    "                    right_pad = \"\".join([\"N\" for _ in range((row[\"end\"] + 1 + extra_seq_needed) - (chr_size + 1))])\n",
    "                else:\n",
    "                    right_pad = \"\"                \n",
    "                \n",
    "                expanded_sequence = fasta_utils.get_sequence(row[\"chromosome\"], \\\n",
    "                                                             expanded_sequence_start, \\\n",
    "                                                             expanded_sequence_end, \\\n",
    "                                                             \".\", \\\n",
    "                                                             fasta_extractor)\n",
    "                expanded_sequence = left_pad + expanded_sequence + right_pad\n",
    "                assert len(expanded_sequence) == enformer_input_size\n",
    "                \n",
    "                # one-hot encode it\n",
    "                expanded_sequence = np.array([i.upper() for i in expanded_sequence])\n",
    "                expanded_sequence_1hot = np.zeros((len(expanded_sequence), 4), dtype=\"uint8\")\n",
    "                expanded_sequence_1hot[expanded_sequence == \"A\", 0] = 1\n",
    "                expanded_sequence_1hot[expanded_sequence == \"C\", 1] = 1\n",
    "                expanded_sequence_1hot[expanded_sequence == \"G\", 2] = 1\n",
    "                expanded_sequence_1hot[expanded_sequence == \"T\", 3] = 1\n",
    "                expanded_sequence_1hot = expanded_sequence_1hot.reshape(1, len(expanded_sequence), 4)\n",
    "                                \n",
    "                if not check:\n",
    "                    new_file.write(serialize_example(expanded_sequence_1hot, target))\n",
    "                \n",
    "                total_rec_count += 1"
   ]
  },
  {
   "cell_type": "code",
   "execution_count": null,
   "id": "23ec1017",
   "metadata": {},
   "outputs": [],
   "source": []
  }
 ],
 "metadata": {
  "kernelspec": {
   "display_name": "promoter_models_clusterfs",
   "language": "python",
   "name": "promoter_models_clusterfs"
  },
  "language_info": {
   "codemirror_mode": {
    "name": "ipython",
    "version": 3
   },
   "file_extension": ".py",
   "mimetype": "text/x-python",
   "name": "python",
   "nbconvert_exporter": "python",
   "pygments_lexer": "ipython3",
   "version": "3.11.7"
  }
 },
 "nbformat": 4,
 "nbformat_minor": 5
}
