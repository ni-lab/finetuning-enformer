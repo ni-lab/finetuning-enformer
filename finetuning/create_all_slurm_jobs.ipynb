{
 "cells": [
  {
   "cell_type": "code",
   "execution_count": 1,
   "id": "74f0c402",
   "metadata": {},
   "outputs": [],
   "source": [
    "import os\n",
    "import json\n",
    "import numpy as np\n",
    "import pandas as pd"
   ]
  },
  {
   "cell_type": "code",
   "execution_count": 2,
   "id": "697ee3c7",
   "metadata": {},
   "outputs": [],
   "source": [
    "all_main_run_names={\n",
    "    \"single_regression_counts\": \"NCCL_P2P_DISABLE=1 python finetuning/train_single_counts_parallel_h5_dataset.py /clusterfs/nilah/ruchir/src/finetuning-enformer/finetuning/data/h5_bins_384_chrom_split/train.h5 /clusterfs/nilah/ruchir/src/finetuning-enformer/finetuning/data/h5_bins_384_chrom_split/val.h5 {run_name} /global/scratch/users/aniketh/finetune-enformer/saved_models/ --batch_size 2 --lr 0.0001 --weight_decay 0.001 --use_scheduler --warmup_steps 1000 --data_seed {data_seed}\",\n",
    "    \"single_regression\": \"NCCL_P2P_DISABLE=1 python finetuning/train_single_parallel_h5_dataset.py /clusterfs/nilah/ruchir/src/finetuning-enformer/finetuning/data/h5_bins_384_chrom_split/train.h5 /clusterfs/nilah/ruchir/src/finetuning-enformer/finetuning/data/h5_bins_384_chrom_split/val.h5 {run_name} /global/scratch/users/aniketh/finetune-enformer/saved_models/ --batch_size 2 --lr 0.0001 --weight_decay 0.001 --use_scheduler --warmup_steps 1000 --data_seed {data_seed}\",\n",
    "    \"classification\": \"NCCL_P2P_DISABLE=1 python finetuning/train_pairwise_classification_parallel_h5_dataset_dynamic_sampling_dataset.py /clusterfs/nilah/ruchir/src/finetuning-enformer/finetuning/data/h5_bins_384_chrom_split/train.h5 /clusterfs/nilah/ruchir/src/finetuning-enformer/finetuning/data/h5_bins_384_chrom_split/val.h5 {run_name} /global/scratch/users/aniketh/finetune-enformer/saved_models/ --batch_size 1 --lr 0.0001 --weight_decay 0.001 --use_scheduler --warmup_steps 1000 --data_seed {data_seed}\",\n",
    "    \"regression\": \"NCCL_P2P_DISABLE=1 python finetuning/train_pairwise_regression_parallel_h5_dataset.py /clusterfs/nilah/ruchir/src/finetuning-enformer/finetuning/data/h5_bins_384_chrom_split/train.h5 /clusterfs/nilah/ruchir/src/finetuning-enformer/finetuning/data/h5_bins_384_chrom_split/val.h5 {run_name} /global/scratch/users/aniketh/finetune-enformer/saved_models/ --batch_size 1 --lr 0.0001 --weight_decay 0.001 --use_scheduler --warmup_steps 1000 --data_seed {data_seed}\"    \n",
    "}\n",
    "all_seeds = [42, 97, 7]"
   ]
  },
  {
   "cell_type": "code",
   "execution_count": 3,
   "id": "d58f0f44",
   "metadata": {},
   "outputs": [],
   "source": [
    "slurm_template = \"slurm_template.sh\"\n",
    "temp_script_path = \"temp_script.sh\""
   ]
  },
  {
   "cell_type": "code",
   "execution_count": 4,
   "id": "260f041d",
   "metadata": {},
   "outputs": [
    {
     "name": "stdout",
     "output_type": "stream",
     "text": [
      "NCCL_P2P_DISABLE=1 python finetuning/train_single_counts_parallel_h5_dataset.py /clusterfs/nilah/ruchir/src/finetuning-enformer/finetuning/data/h5_bins_384_chrom_split/train.h5 /clusterfs/nilah/ruchir/src/finetuning-enformer/finetuning/data/h5_bins_384_chrom_split/val.h5 single_regression_counts_lr_5e-4_wd_5e-3_replicate0 /global/scratch/users/aniketh/finetune-enformer/saved_models/ --batch_size 2 --lr 0.0005 --weight_decay 0.005 --use_scheduler --warmup_steps 1000 --data_seed 42\n",
      "Submitted batch job 18142770\n",
      "NCCL_P2P_DISABLE=1 python finetuning/train_single_counts_parallel_h5_dataset.py /clusterfs/nilah/ruchir/src/finetuning-enformer/finetuning/data/h5_bins_384_chrom_split/train.h5 /clusterfs/nilah/ruchir/src/finetuning-enformer/finetuning/data/h5_bins_384_chrom_split/val.h5 single_regression_counts_lr_5e-4_wd_5e-3_replicate1 /global/scratch/users/aniketh/finetune-enformer/saved_models/ --batch_size 2 --lr 0.0005 --weight_decay 0.005 --use_scheduler --warmup_steps 1000 --data_seed 97\n",
      "Submitted batch job 18142771\n",
      "NCCL_P2P_DISABLE=1 python finetuning/train_single_counts_parallel_h5_dataset.py /clusterfs/nilah/ruchir/src/finetuning-enformer/finetuning/data/h5_bins_384_chrom_split/train.h5 /clusterfs/nilah/ruchir/src/finetuning-enformer/finetuning/data/h5_bins_384_chrom_split/val.h5 single_regression_counts_lr_5e-4_wd_5e-3_replicate2 /global/scratch/users/aniketh/finetune-enformer/saved_models/ --batch_size 2 --lr 0.0005 --weight_decay 0.005 --use_scheduler --warmup_steps 1000 --data_seed 7\n",
      "Submitted batch job 18142772\n",
      "NCCL_P2P_DISABLE=1 python finetuning/train_single_parallel_h5_dataset.py /clusterfs/nilah/ruchir/src/finetuning-enformer/finetuning/data/h5_bins_384_chrom_split/train.h5 /clusterfs/nilah/ruchir/src/finetuning-enformer/finetuning/data/h5_bins_384_chrom_split/val.h5 single_regression_lr_5e-4_wd_5e-3_replicate0 /global/scratch/users/aniketh/finetune-enformer/saved_models/ --batch_size 2 --lr 0.0005 --weight_decay 0.005 --use_scheduler --warmup_steps 1000 --data_seed 42\n",
      "Submitted batch job 18142773\n",
      "NCCL_P2P_DISABLE=1 python finetuning/train_single_parallel_h5_dataset.py /clusterfs/nilah/ruchir/src/finetuning-enformer/finetuning/data/h5_bins_384_chrom_split/train.h5 /clusterfs/nilah/ruchir/src/finetuning-enformer/finetuning/data/h5_bins_384_chrom_split/val.h5 single_regression_lr_5e-4_wd_5e-3_replicate1 /global/scratch/users/aniketh/finetune-enformer/saved_models/ --batch_size 2 --lr 0.0005 --weight_decay 0.005 --use_scheduler --warmup_steps 1000 --data_seed 97\n",
      "Submitted batch job 18142774\n",
      "NCCL_P2P_DISABLE=1 python finetuning/train_single_parallel_h5_dataset.py /clusterfs/nilah/ruchir/src/finetuning-enformer/finetuning/data/h5_bins_384_chrom_split/train.h5 /clusterfs/nilah/ruchir/src/finetuning-enformer/finetuning/data/h5_bins_384_chrom_split/val.h5 single_regression_lr_5e-4_wd_5e-3_replicate2 /global/scratch/users/aniketh/finetune-enformer/saved_models/ --batch_size 2 --lr 0.0005 --weight_decay 0.005 --use_scheduler --warmup_steps 1000 --data_seed 7\n",
      "Submitted batch job 18142775\n"
     ]
    }
   ],
   "source": [
    "for run in all_main_run_names:\n",
    "    for i, seed in enumerate(all_seeds):\n",
    "        run_name = f\"{run}_lr_1e-4_wd_1e-3_replicate{i}\"\n",
    "        cmd = all_main_run_names[run]\n",
    "        cmd = cmd.replace(\"{run_name}\", run_name)\n",
    "        cmd = cmd.replace(\"{data_seed}\", str(seed))\n",
    "        \n",
    "        print(cmd)\n",
    "        \n",
    "        temp_script = open(temp_script_path, \"w+\")\n",
    "        for line in open(slurm_template, \"r\").readlines():\n",
    "            temp_script.write(line)\n",
    "        temp_script.write(\"\\n\")\n",
    "        \n",
    "        temp_script.write(cmd)\n",
    "        temp_script.write(\"\\n\")\n",
    "        \n",
    "        temp_script.close()\n",
    "        \n",
    "        os.system(f\"sbatch {temp_script_path}\")"
   ]
  },
  {
   "cell_type": "code",
   "execution_count": null,
   "id": "3b2f2d48",
   "metadata": {},
   "outputs": [],
   "source": []
  }
 ],
 "metadata": {
  "kernelspec": {
   "display_name": "promoter_models_clusterfs",
   "language": "python",
   "name": "promoter_models_clusterfs"
  },
  "language_info": {
   "codemirror_mode": {
    "name": "ipython",
    "version": 3
   },
   "file_extension": ".py",
   "mimetype": "text/x-python",
   "name": "python",
   "nbconvert_exporter": "python",
   "pygments_lexer": "ipython3",
   "version": "3.11.7"
  }
 },
 "nbformat": 4,
 "nbformat_minor": 5
}
