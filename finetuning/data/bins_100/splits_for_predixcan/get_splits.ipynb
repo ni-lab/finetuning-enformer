{
 "cells": [
  {
   "cell_type": "code",
   "execution_count": 18,
   "metadata": {},
   "outputs": [],
   "source": [
    "import numpy as np\n",
    "import pandas as pd"
   ]
  },
  {
   "cell_type": "markdown",
   "metadata": {},
   "source": [
    "# Get YRI test genes"
   ]
  },
  {
   "cell_type": "code",
   "execution_count": 32,
   "metadata": {},
   "outputs": [],
   "source": [
    "genes = np.load(\"genes.npz\", allow_pickle=True)\n",
    "yri_test_genes = genes[\"yri_test_genes\"]\n",
    "np.save(\"yri_test_genes.npy\", yri_test_genes)"
   ]
  },
  {
   "cell_type": "markdown",
   "metadata": {},
   "source": [
    "# Get YRI test samples"
   ]
  },
  {
   "cell_type": "code",
   "execution_count": 16,
   "metadata": {},
   "outputs": [],
   "source": [
    "counts_path = \"/data/yosef3/users/ruchir/finetuning-enformer/process_geuvadis_data/tpm/tpm_pca_annot.csv.gz\"\n",
    "metadata_path = \"/data/yosef3/users/ruchir/pgp_uq/data/E-GEUV-1.sdrf.txt\""
   ]
  },
  {
   "cell_type": "code",
   "execution_count": 29,
   "metadata": {},
   "outputs": [],
   "source": [
    "counts_df = pd.read_csv(counts_path, index_col=\"our_gene_name\")\n",
    "counts_df = counts_df[~pd.isna(counts_df.index)]\n",
    "assert np.isin(yri_test_genes, counts_df.index).all()\n",
    "metadata_df = pd.read_csv(metadata_path, sep=\"\\t\", index_col=0)"
   ]
  },
  {
   "cell_type": "code",
   "execution_count": 30,
   "metadata": {},
   "outputs": [
    {
     "name": "stdout",
     "output_type": "stream",
     "text": [
      "# YRI samples: 77\n",
      "# Non-YRI samples: 344\n"
     ]
    }
   ],
   "source": [
    "train_data = np.load(\"sample_train.npz\")\n",
    "test_data = np.load(\"sample_test.npz\")\n",
    "\n",
    "non_yri_samples = set()\n",
    "yri_samples = set()\n",
    "\n",
    "for (sample, gene) in zip(train_data[\"samples\"], train_data[\"genes\"]):\n",
    "    if gene in yri_test_genes:\n",
    "        non_yri_samples.add(sample)\n",
    "\n",
    "for (sample, gene) in zip(test_data[\"samples\"], test_data[\"genes\"]):\n",
    "    if gene in yri_test_genes:\n",
    "        yri_samples.add(sample)\n",
    "\n",
    "assert len(yri_samples & non_yri_samples) == 0\n",
    "print(\"# YRI samples:\", len(yri_samples))\n",
    "print(\"# Non-YRI samples:\", len(non_yri_samples))"
   ]
  },
  {
   "cell_type": "code",
   "execution_count": 31,
   "metadata": {},
   "outputs": [],
   "source": [
    "samples_df = pd.DataFrame(\n",
    "    {\n",
    "        \"sample\": list(yri_samples) + list(non_yri_samples),\n",
    "        \"population\": [\"YRI\"] * len(yri_samples) + [\"Non-YRI\"] * len(non_yri_samples),\n",
    "    }\n",
    ")\n",
    "samples_df.to_csv(\"samples.csv\", index=False)"
   ]
  }
 ],
 "metadata": {
  "kernelspec": {
   "display_name": "sc",
   "language": "python",
   "name": "python3"
  },
  "language_info": {
   "codemirror_mode": {
    "name": "ipython",
    "version": 3
   },
   "file_extension": ".py",
   "mimetype": "text/x-python",
   "name": "python",
   "nbconvert_exporter": "python",
   "pygments_lexer": "ipython3",
   "version": "3.10.12"
  }
 },
 "nbformat": 4,
 "nbformat_minor": 2
}
